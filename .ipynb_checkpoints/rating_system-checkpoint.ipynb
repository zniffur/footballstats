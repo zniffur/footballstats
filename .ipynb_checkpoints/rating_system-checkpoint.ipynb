{
 "cells": [
  {
   "cell_type": "code",
   "execution_count": 1,
   "metadata": {
    "ExecuteTime": {
     "end_time": "2020-02-04T11:02:35.491689Z",
     "start_time": "2020-02-04T11:02:30.115837Z"
    },
    "collapsed": true
   },
   "outputs": [],
   "source": [
    "import pandas as pd\n",
    "import matplotlib.pyplot as plt\n",
    "import numpy as np\n",
    "\n",
    "%matplotlib inline"
   ]
  },
  {
   "cell_type": "code",
   "execution_count": 2,
   "metadata": {
    "ExecuteTime": {
     "end_time": "2020-02-04T11:02:35.531482Z",
     "start_time": "2020-02-04T11:02:35.501270Z"
    },
    "collapsed": true
   },
   "outputs": [],
   "source": [
    "filename = 'datasets/I1-2019.csv'\n",
    "df = pd.read_csv(filename)"
   ]
  },
  {
   "cell_type": "code",
   "execution_count": 3,
   "metadata": {
    "ExecuteTime": {
     "end_time": "2020-02-04T11:02:36.511733Z",
     "start_time": "2020-02-04T11:02:36.503637Z"
    },
    "collapsed": true
   },
   "outputs": [],
   "source": [
    "N_PREV_GAMES = 6"
   ]
  },
  {
   "cell_type": "code",
   "execution_count": 4,
   "metadata": {
    "ExecuteTime": {
     "end_time": "2020-02-04T11:02:37.591730Z",
     "start_time": "2020-02-04T11:02:37.563451Z"
    }
   },
   "outputs": [
    {
     "data": {
      "text/plain": [
       "Index(['Div', 'Date', 'HomeTeam', 'AwayTeam', 'FTHG', 'FTAG', 'FTR', 'HTHG',\n",
       "       'HTAG', 'HTR', 'HS', 'AS', 'HST', 'AST', 'HF', 'AF', 'HC', 'AC', 'HY',\n",
       "       'AY', 'HR', 'AR', 'B365H', 'B365D', 'B365A', 'BWH', 'BWD', 'BWA', 'IWH',\n",
       "       'IWD', 'IWA', 'PSH', 'PSD', 'PSA', 'WHH', 'WHD', 'WHA', 'VCH', 'VCD',\n",
       "       'VCA', 'Bb1X2', 'BbMxH', 'BbAvH', 'BbMxD', 'BbAvD', 'BbMxA', 'BbAvA',\n",
       "       'BbOU', 'BbMx>2.5', 'BbAv>2.5', 'BbMx<2.5', 'BbAv<2.5', 'BbAH', 'BbAHh',\n",
       "       'BbMxAHH', 'BbAvAHH', 'BbMxAHA', 'BbAvAHA', 'PSCH', 'PSCD', 'PSCA'],\n",
       "      dtype='object')"
      ]
     },
     "execution_count": 4,
     "metadata": {},
     "output_type": "execute_result"
    }
   ],
   "source": [
    "df.columns"
   ]
  },
  {
   "cell_type": "code",
   "execution_count": 11,
   "metadata": {
    "ExecuteTime": {
     "end_time": "2020-02-04T11:11:37.451920Z",
     "start_time": "2020-02-04T11:11:37.436297Z"
    }
   },
   "outputs": [
    {
     "name": "stdout",
     "output_type": "stream",
     "text": [
      "['Chievo', 'Lazio', 'Bologna', 'Empoli', 'Parma', 'Sassuolo', 'Torino', 'Atalanta', 'Juventus', 'Napoli', 'Cagliari', 'Fiorentina', 'Frosinone', 'Genoa', 'Inter', 'Spal', 'Udinese', 'Roma', 'Milan', 'Sampdoria']\n"
     ]
    }
   ],
   "source": [
    "teams = df.HomeTeam.unique().tolist()\n",
    "print(teams)"
   ]
  },
  {
   "cell_type": "code",
   "execution_count": 215,
   "metadata": {
    "ExecuteTime": {
     "end_time": "2020-02-05T12:09:57.446731Z",
     "start_time": "2020-02-05T12:09:57.415495Z"
    },
    "collapsed": true
   },
   "outputs": [],
   "source": [
    "stats = df[['Date','HomeTeam', 'AwayTeam', 'FTHG', 'FTAG', 'FTR']].copy()"
   ]
  },
  {
   "cell_type": "code",
   "execution_count": 169,
   "metadata": {
    "ExecuteTime": {
     "end_time": "2020-02-05T08:59:19.465193Z",
     "start_time": "2020-02-05T08:59:19.445374Z"
    }
   },
   "outputs": [],
   "source": [
    "def scored(row, team):\n",
    "    if row['HomeTeam'] == team:\n",
    "        return row.FTHG\n",
    "    if row['AwayTeam'] == team:\n",
    "        return row.FTAG\n",
    "    \n",
    "def conceded(row, team):\n",
    "    if row['HomeTeam'] == team:\n",
    "        return row.FTAG\n",
    "    if row['AwayTeam'] == team:\n",
    "        return row.FTHG"
   ]
  },
  {
   "cell_type": "code",
   "execution_count": 181,
   "metadata": {
    "ExecuteTime": {
     "end_time": "2020-02-05T12:00:40.202724Z",
     "start_time": "2020-02-05T12:00:40.182742Z"
    },
    "collapsed": true
   },
   "outputs": [],
   "source": [
    "all_team_stats = {}"
   ]
  },
  {
   "cell_type": "code",
   "execution_count": 231,
   "metadata": {
    "ExecuteTime": {
     "end_time": "2020-02-05T12:58:53.497022Z",
     "start_time": "2020-02-05T12:58:53.180136Z"
    },
    "collapsed": true
   },
   "outputs": [],
   "source": [
    "for team in teams:\n",
    "    team_stats = stats[(stats.HomeTeam == team)|(stats.AwayTeam == team)].copy()\n",
    "\n",
    "    team_stats.loc[:,'scored'] = team_stats.apply(scored, team=team, axis=1)\n",
    "    team_stats.loc[:,'conceded'] = team_stats.apply(conceded, team=team, axis=1)\n",
    "\n",
    "    team_stats.loc[:,'rolling_scored'] = team_stats['scored'].rolling(window=N_PREV_GAMES).sum()\n",
    "    team_stats.loc[:,'rolling_conceded'] = team_stats['conceded'].rolling(window=N_PREV_GAMES).sum()\n",
    "\n",
    "    team_stats['rating'] = team_stats['rolling_scored'] - team_stats['rolling_conceded']\n",
    "    team_stats['Date'] = pd.to_datetime(team_stats['Date'], infer_datetime_format=True)\n",
    "    team_stats.rating = team_stats.rating.shift(1)\n",
    "\n",
    "    all_team_stats[team] = team_stats"
   ]
  },
  {
   "cell_type": "code",
   "execution_count": null,
   "metadata": {
    "collapsed": true
   },
   "outputs": [],
   "source": [
    "def calc_match_rating(row):\n",
    "    h = row['HomeTeam']\n",
    "    a = row['AwayTeam']\n",
    "    "
   ]
  },
  {
   "cell_type": "code",
   "execution_count": 232,
   "metadata": {
    "ExecuteTime": {
     "end_time": "2020-02-05T12:59:02.815236Z",
     "start_time": "2020-02-05T12:59:02.777753Z"
    }
   },
   "outputs": [
    {
     "name": "stdout",
     "output_type": "stream",
     "text": [
      "9.0\n",
      "5.0\n"
     ]
    }
   ],
   "source": [
    "i = 60  # Juventus - Napoli\n",
    "print(all_team_stats[stats.loc[i].HomeTeam].loc[i].rating)\n",
    "print(all_team_stats[stats.loc[i].AwayTeam].loc[i].rating)"
   ]
  },
  {
   "cell_type": "code",
   "execution_count": null,
   "metadata": {
    "collapsed": true
   },
   "outputs": [],
   "source": []
  },
  {
   "cell_type": "code",
   "execution_count": null,
   "metadata": {
    "collapsed": true
   },
   "outputs": [],
   "source": []
  },
  {
   "cell_type": "code",
   "execution_count": null,
   "metadata": {
    "collapsed": true
   },
   "outputs": [],
   "source": []
  },
  {
   "cell_type": "code",
   "execution_count": 120,
   "metadata": {
    "ExecuteTime": {
     "end_time": "2020-02-04T14:41:01.207599Z",
     "start_time": "2020-02-04T14:41:01.080940Z"
    },
    "scrolled": true
   },
   "outputs": [
    {
     "name": "stdout",
     "output_type": "stream",
     "text": [
      "13\n",
      "4\n"
     ]
    }
   ],
   "source": [
    "def scored(row, team):\n",
    "    if row['HomeTeam'] == team:\n",
    "        return row.FTHG\n",
    "    if row['AwayTeam'] == team:\n",
    "        return row.FTAG\n",
    "    \n",
    "def conceded(row, team):\n",
    "    if row['HomeTeam'] == team:\n",
    "        return row.FTAG\n",
    "    if row['AwayTeam'] == team:\n",
    "        return row.FTHG\n",
    "\n",
    "def get_last_scored(df, team):\n",
    "    tmpdf = df[(df.HomeTeam == team)|(df.AwayTeam == team)].copy()\n",
    "    tmpdf['scored'] = tmpdf.apply(scored, team=team, axis=1)\n",
    "    scored6 = tmpdf.scored.sum()\n",
    "    return scored6\n",
    "\n",
    "print(get_last_scored(stats.iloc[0:60,:], 'Juventus'))\n",
    "\n",
    "def get_last_conceded(df, team):\n",
    "    tmpdf = df[(df.HomeTeam == team)|(df.AwayTeam == team)].copy()\n",
    "    tmpdf['conceded'] = tmpdf.apply(conceded, team=team, axis=1)\n",
    "    conceded6 = tmpdf.conceded.sum()\n",
    "    return conceded6\n",
    "\n",
    "print(get_last_conceded(stats.iloc[0:60,:], 'Juventus'))"
   ]
  },
  {
   "cell_type": "code",
   "execution_count": 137,
   "metadata": {
    "ExecuteTime": {
     "end_time": "2020-02-04T14:46:28.657626Z",
     "start_time": "2020-02-04T14:46:21.546914Z"
    },
    "collapsed": true
   },
   "outputs": [],
   "source": [
    "for i in range(60,stats.shape[0]):\n",
    "    start = i - 10*N_PREV_GAMES # 0\n",
    "    end = start + 10*N_PREV_GAMES # 60\n",
    "    \n",
    "    # HomeRating\n",
    "    stats.iloc[i,6] = get_last_scored(stats.iloc[start:end,:], stats.iloc[end].HomeTeam) - \\\n",
    "                        get_last_conceded(stats.iloc[start:end,:], stats.iloc[end].HomeTeam)\n",
    "    # AwayRating\n",
    "    stats.iloc[i,7] = get_last_scored(stats.iloc[start:end,:], stats.iloc[end].AwayTeam) - \\\n",
    "                        get_last_conceded(stats.iloc[start:end,:], stats.iloc[end].AwayTeam)"
   ]
  },
  {
   "cell_type": "code",
   "execution_count": 140,
   "metadata": {
    "ExecuteTime": {
     "end_time": "2020-02-04T14:47:44.553389Z",
     "start_time": "2020-02-04T14:47:44.522453Z"
    }
   },
   "outputs": [
    {
     "data": {
      "text/html": [
       "<div>\n",
       "<style>\n",
       "    .dataframe thead tr:only-child th {\n",
       "        text-align: right;\n",
       "    }\n",
       "\n",
       "    .dataframe thead th {\n",
       "        text-align: left;\n",
       "    }\n",
       "\n",
       "    .dataframe tbody tr th {\n",
       "        vertical-align: top;\n",
       "    }\n",
       "</style>\n",
       "<table border=\"1\" class=\"dataframe\">\n",
       "  <thead>\n",
       "    <tr style=\"text-align: right;\">\n",
       "      <th></th>\n",
       "      <th>Date</th>\n",
       "      <th>HomeTeam</th>\n",
       "      <th>AwayTeam</th>\n",
       "      <th>FTHG</th>\n",
       "      <th>FTAG</th>\n",
       "      <th>FTR</th>\n",
       "      <th>HomeRating</th>\n",
       "      <th>AwayRating</th>\n",
       "    </tr>\n",
       "  </thead>\n",
       "  <tbody>\n",
       "    <tr>\n",
       "      <th>59</th>\n",
       "      <td>29/09/2018</td>\n",
       "      <td>Inter</td>\n",
       "      <td>Cagliari</td>\n",
       "      <td>2</td>\n",
       "      <td>0</td>\n",
       "      <td>H</td>\n",
       "      <td>0</td>\n",
       "      <td>0</td>\n",
       "    </tr>\n",
       "    <tr>\n",
       "      <th>60</th>\n",
       "      <td>29/09/2018</td>\n",
       "      <td>Juventus</td>\n",
       "      <td>Napoli</td>\n",
       "      <td>3</td>\n",
       "      <td>1</td>\n",
       "      <td>H</td>\n",
       "      <td>9</td>\n",
       "      <td>5</td>\n",
       "    </tr>\n",
       "    <tr>\n",
       "      <th>61</th>\n",
       "      <td>29/09/2018</td>\n",
       "      <td>Roma</td>\n",
       "      <td>Lazio</td>\n",
       "      <td>3</td>\n",
       "      <td>1</td>\n",
       "      <td>H</td>\n",
       "      <td>2</td>\n",
       "      <td>3</td>\n",
       "    </tr>\n",
       "    <tr>\n",
       "      <th>62</th>\n",
       "      <td>30/09/2018</td>\n",
       "      <td>Bologna</td>\n",
       "      <td>Udinese</td>\n",
       "      <td>2</td>\n",
       "      <td>1</td>\n",
       "      <td>H</td>\n",
       "      <td>-5</td>\n",
       "      <td>1</td>\n",
       "    </tr>\n",
       "    <tr>\n",
       "      <th>63</th>\n",
       "      <td>30/09/2018</td>\n",
       "      <td>Chievo</td>\n",
       "      <td>Torino</td>\n",
       "      <td>0</td>\n",
       "      <td>1</td>\n",
       "      <td>A</td>\n",
       "      <td>-9</td>\n",
       "      <td>-2</td>\n",
       "    </tr>\n",
       "  </tbody>\n",
       "</table>\n",
       "</div>"
      ],
      "text/plain": [
       "          Date  HomeTeam  AwayTeam  FTHG  FTAG FTR  HomeRating  AwayRating\n",
       "59  29/09/2018     Inter  Cagliari     2     0   H           0           0\n",
       "60  29/09/2018  Juventus    Napoli     3     1   H           9           5\n",
       "61  29/09/2018      Roma     Lazio     3     1   H           2           3\n",
       "62  30/09/2018   Bologna   Udinese     2     1   H          -5           1\n",
       "63  30/09/2018    Chievo    Torino     0     1   A          -9          -2"
      ]
     },
     "execution_count": 140,
     "metadata": {},
     "output_type": "execute_result"
    }
   ],
   "source": [
    "stats[59:].head()"
   ]
  },
  {
   "cell_type": "code",
   "execution_count": 141,
   "metadata": {
    "ExecuteTime": {
     "end_time": "2020-02-04T14:48:18.438784Z",
     "start_time": "2020-02-04T14:48:18.416842Z"
    }
   },
   "outputs": [
    {
     "data": {
      "text/plain": [
       "12"
      ]
     },
     "execution_count": 141,
     "metadata": {},
     "output_type": "execute_result"
    }
   ],
   "source": [
    "get_last_scored(stats.iloc[0:60,:], 'Napoli')"
   ]
  },
  {
   "cell_type": "code",
   "execution_count": 142,
   "metadata": {
    "ExecuteTime": {
     "end_time": "2020-02-04T14:48:29.166224Z",
     "start_time": "2020-02-04T14:48:29.139297Z"
    }
   },
   "outputs": [
    {
     "data": {
      "text/plain": [
       "7"
      ]
     },
     "execution_count": 142,
     "metadata": {},
     "output_type": "execute_result"
    }
   ],
   "source": [
    "get_last_conceded(stats.iloc[0:60,:], 'Napoli')"
   ]
  },
  {
   "cell_type": "code",
   "execution_count": null,
   "metadata": {
    "collapsed": true
   },
   "outputs": [],
   "source": []
  }
 ],
 "metadata": {
  "kernelspec": {
   "display_name": "Python 3",
   "language": "python",
   "name": "python3"
  },
  "language_info": {
   "codemirror_mode": {
    "name": "ipython",
    "version": 3
   },
   "file_extension": ".py",
   "mimetype": "text/x-python",
   "name": "python",
   "nbconvert_exporter": "python",
   "pygments_lexer": "ipython3",
   "version": "3.6.2"
  }
 },
 "nbformat": 4,
 "nbformat_minor": 2
}
