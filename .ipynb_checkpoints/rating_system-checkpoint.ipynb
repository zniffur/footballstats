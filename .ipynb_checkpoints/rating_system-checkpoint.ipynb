{
 "cells": [
  {
   "cell_type": "code",
   "execution_count": 317,
   "metadata": {
    "ExecuteTime": {
     "end_time": "2020-02-06T08:57:51.169361Z",
     "start_time": "2020-02-06T08:57:50.922089Z"
    },
    "collapsed": true
   },
   "outputs": [],
   "source": [
    "import pandas as pd\n",
    "import matplotlib.pyplot as plt\n",
    "import numpy as np\n",
    "\n",
    "%matplotlib inline"
   ]
  },
  {
   "cell_type": "markdown",
   "metadata": {},
   "source": [
    "## Crea matrice  rating"
   ]
  },
  {
   "cell_type": "code",
   "execution_count": 318,
   "metadata": {
    "ExecuteTime": {
     "end_time": "2020-02-06T08:57:51.770753Z",
     "start_time": "2020-02-06T08:57:51.739523Z"
    },
    "collapsed": true
   },
   "outputs": [],
   "source": [
    "N_PREV_GAMES = 6"
   ]
  },
  {
   "cell_type": "code",
   "execution_count": 319,
   "metadata": {
    "ExecuteTime": {
     "end_time": "2020-02-06T08:57:52.703104Z",
     "start_time": "2020-02-06T08:57:52.656264Z"
    },
    "collapsed": true
   },
   "outputs": [],
   "source": [
    "def scored(row, team):\n",
    "    if row['HomeTeam'] == team:\n",
    "        return row.FTHG\n",
    "    if row['AwayTeam'] == team:\n",
    "        return row.FTAG\n",
    "    \n",
    "def conceded(row, team):\n",
    "    if row['HomeTeam'] == team:\n",
    "        return row.FTAG\n",
    "    if row['AwayTeam'] == team:\n",
    "        return row.FTHG\n",
    "\n",
    "def calc_match_rating(row):\n",
    "    h = row['HomeTeam']\n",
    "    a = row['AwayTeam']\n",
    "    i = row.id\n",
    "    return all_team_stats[stats.loc[i].HomeTeam].loc[i].rating -\\\n",
    "            all_team_stats[stats.loc[i].AwayTeam].loc[i].rating"
   ]
  },
  {
   "cell_type": "code",
   "execution_count": 320,
   "metadata": {
    "ExecuteTime": {
     "end_time": "2020-02-06T08:58:04.231825Z",
     "start_time": "2020-02-06T08:57:54.427170Z"
    }
   },
   "outputs": [
    {
     "name": "stdout",
     "output_type": "stream",
     "text": [
      "2008\n",
      "['Juventus', 'Lazio', 'Fiorentina', 'Genoa', 'Inter', 'Napoli', 'Palermo', 'Parma', 'Reggina', 'Siena', 'Empoli', 'Atalanta', 'Cagliari', 'Catania', 'Livorno', 'Roma', 'Sampdoria', 'Torino', 'Udinese', 'Milan']\n",
      "2009\n",
      "['Sampdoria', 'Udinese', 'Atalanta', 'Cagliari', 'Catania', 'Chievo', 'Fiorentina', 'Milan', 'Roma', 'Torino', 'Inter', 'Palermo', 'Bologna', 'Genoa', 'Juventus', 'Lazio', 'Lecce', 'Napoli', 'Reggina', 'Siena']\n",
      "2010\n",
      "['Bologna', 'Siena', 'Catania', 'Genoa', 'Inter', 'Juventus', 'Lazio', 'Livorno', 'Palermo', 'Udinese', 'Bari', 'Milan', 'Atalanta', 'Cagliari', 'Chievo', 'Fiorentina', 'Napoli', 'Parma', 'Roma', 'Sampdoria']\n",
      "2011\n",
      "['Roma', 'Udinese', 'Bari', 'Chievo', 'Fiorentina', 'Milan', 'Palermo', 'Parma', 'Sampdoria', 'Bologna', 'Cagliari', 'Cesena', 'Inter', 'Brescia', 'Catania', 'Genoa', 'Juventus', 'Lazio', 'Lecce', 'Napoli']\n",
      "2012\n",
      "['Milan', 'Cesena', 'Catania', 'Chievo', 'Fiorentina', 'Genoa', 'Juventus', 'Lecce', 'Palermo', 'Roma', 'Cagliari', 'Inter', 'Atalanta', 'Bologna', 'Lazio', 'Napoli', 'Parma', 'Siena', 'Udinese', 'Novara']\n",
      "2013\n",
      "['Fiorentina', 'Juventus', 'Atalanta', 'Chievo', 'Genoa', 'Milan', 'Palermo', 'Pescara', 'Roma', 'Siena', 'Bologna', 'Torino', 'Cagliari', 'Catania', 'Inter', 'Lazio', 'Napoli', 'Parma', 'Sampdoria', 'Udinese']\n",
      "2014\n",
      "['Sampdoria', 'Verona', 'Cagliari', 'Inter', 'Lazio', 'Livorno', 'Napoli', 'Parma', 'Torino', 'Fiorentina', 'Chievo', 'Juventus', 'Atalanta', 'Bologna', 'Catania', 'Genoa', 'Milan', 'Roma', 'Sassuolo', 'Udinese']\n",
      "2015\n",
      "['Chievo', 'Roma', 'Atalanta', 'Cesena', 'Genoa', 'Milan', 'Palermo', 'Sassuolo', 'Torino', 'Udinese', 'Empoli', 'Juventus', 'Cagliari', 'Fiorentina', 'Inter', 'Lazio', 'Napoli', 'Parma', 'Sampdoria', 'Verona']\n",
      "2016\n",
      "['Lazio', 'Verona', 'Empoli', 'Fiorentina', 'Frosinone', 'Inter', 'Juventus', 'Palermo', 'Sampdoria', 'Sassuolo', 'Bologna', 'Milan', 'Atalanta', 'Carpi', 'Chievo', 'Genoa', 'Napoli', 'Roma', 'Torino', 'Udinese']\n",
      "2017\n",
      "['Juventus', 'Roma', 'Atalanta', 'Bologna', 'Chievo', 'Empoli', 'Genoa', 'Milan', 'Palermo', 'Pescara', 'Lazio', 'Napoli', 'Cagliari', 'Crotone', 'Fiorentina', 'Inter', 'Sampdoria', 'Sassuolo', 'Torino', 'Udinese']\n",
      "2018\n",
      "['Juventus', 'Verona', 'Atalanta', 'Bologna', 'Crotone', 'Inter', 'Lazio', 'Sampdoria', 'Sassuolo', 'Udinese', 'Benevento', 'Genoa', 'Roma', 'Chievo', 'Fiorentina', 'Milan', 'Napoli', 'Spal', 'Torino', 'Cagliari']\n",
      "2019\n",
      "['Chievo', 'Lazio', 'Bologna', 'Empoli', 'Parma', 'Sassuolo', 'Torino', 'Atalanta', 'Juventus', 'Napoli', 'Cagliari', 'Fiorentina', 'Frosinone', 'Genoa', 'Inter', 'Spal', 'Udinese', 'Roma', 'Milan', 'Sampdoria']\n",
      "2020\n",
      "['Parma', 'Fiorentina', 'Udinese', 'Cagliari', 'Roma', 'Sampdoria', 'Spal', 'Torino', 'Verona', 'Inter', 'Bologna', 'Milan', 'Juventus', 'Lazio', 'Atalanta', 'Genoa', 'Lecce', 'Sassuolo', 'Napoli', 'Brescia']\n"
     ]
    }
   ],
   "source": [
    "result = pd.DataFrame()\n",
    "\n",
    "for year in range(2008,2021):\n",
    "    print(year)\n",
    "    filename = 'datasets/I1-' + str(year) + '.csv'\n",
    "    #filename = 'datasets/E0-' + str(year) + '.csv'\n",
    "    df = pd.read_csv(filename)\n",
    "    df.dropna(how='all',inplace=True)  # droppa se tutta la riga è nan\n",
    "\n",
    "    teams = df.HomeTeam.unique().tolist()\n",
    "    print(teams)\n",
    "\n",
    "    stats = df[['Date','HomeTeam', 'AwayTeam', 'FTHG', 'FTAG', 'FTR']].copy()\n",
    "\n",
    "    all_team_stats = {}\n",
    "\n",
    "    for team in teams:\n",
    "        team_stats = stats[(stats.HomeTeam == team)|(stats.AwayTeam == team)].copy()\n",
    "\n",
    "        team_stats.loc[:,'scored'] = team_stats.apply(scored, team=team, axis=1)\n",
    "        team_stats.loc[:,'conceded'] = team_stats.apply(conceded, team=team, axis=1)\n",
    "\n",
    "        team_stats.loc[:,'rolling_scored'] = team_stats['scored'].rolling(window=N_PREV_GAMES).sum()\n",
    "        team_stats.loc[:,'rolling_conceded'] = team_stats['conceded'].rolling(window=N_PREV_GAMES).sum()\n",
    "\n",
    "        team_stats['rating'] = team_stats['rolling_scored'] - team_stats['rolling_conceded']\n",
    "        team_stats['Date'] = pd.to_datetime(team_stats['Date'], infer_datetime_format=True)\n",
    "        team_stats.rating = team_stats.rating.shift(1)\n",
    "\n",
    "        all_team_stats[team] = team_stats\n",
    "\n",
    "    stats['id'] = stats.index\n",
    "    stats['match_rating'] = stats.apply(calc_match_rating, axis=1)\n",
    "\n",
    "    result = result.append(stats)"
   ]
  },
  {
   "cell_type": "code",
   "execution_count": 321,
   "metadata": {
    "ExecuteTime": {
     "end_time": "2020-02-06T08:58:12.687676Z",
     "start_time": "2020-02-06T08:58:12.657821Z"
    },
    "collapsed": true
   },
   "outputs": [],
   "source": [
    "result.dropna(inplace=True)"
   ]
  },
  {
   "cell_type": "code",
   "execution_count": 322,
   "metadata": {
    "ExecuteTime": {
     "end_time": "2020-02-06T08:58:14.663783Z",
     "start_time": "2020-02-06T08:58:14.632557Z"
    },
    "scrolled": true
   },
   "outputs": [
    {
     "data": {
      "text/plain": [
       "count    3956.000000\n",
       "mean       -0.297776\n",
       "std         6.991583\n",
       "min       -25.000000\n",
       "25%        -5.000000\n",
       "50%         0.000000\n",
       "75%         4.000000\n",
       "max        24.000000\n",
       "Name: match_rating, dtype: float64"
      ]
     },
     "execution_count": 322,
     "metadata": {},
     "output_type": "execute_result"
    }
   ],
   "source": [
    "result.match_rating.describe()"
   ]
  },
  {
   "cell_type": "code",
   "execution_count": 323,
   "metadata": {
    "ExecuteTime": {
     "end_time": "2020-02-06T08:58:15.820635Z",
     "start_time": "2020-02-06T08:58:15.351110Z"
    }
   },
   "outputs": [
    {
     "data": {
      "text/plain": [
       "<matplotlib.axes._subplots.AxesSubplot at 0x250de769b38>"
      ]
     },
     "execution_count": 323,
     "metadata": {},
     "output_type": "execute_result"
    },
    {
     "data": {
      "image/png": "[encoded data removed]",
      "text/plain": [
       "<Figure size 432x288 with 1 Axes>"
      ]
     },
     "metadata": {},
     "output_type": "display_data"
    }
   ],
   "source": [
    "result.match_rating.plot(kind='hist', bins=49)"
   ]
  },
  {
   "cell_type": "markdown",
   "metadata": {},
   "source": [
    "Salva la matrice"
   ]
  },
  {
   "cell_type": "code",
   "execution_count": 324,
   "metadata": {
    "ExecuteTime": {
     "end_time": "2020-02-06T08:59:20.473478Z",
     "start_time": "2020-02-06T08:59:20.373377Z"
    },
    "collapsed": true
   },
   "outputs": [],
   "source": [
    "result.to_csv('rating_system.csv')"
   ]
  },
  {
   "cell_type": "markdown",
   "metadata": {},
   "source": [
    "## Carica matrice rating"
   ]
  },
  {
   "cell_type": "code",
   "execution_count": 325,
   "metadata": {
    "ExecuteTime": {
     "end_time": "2020-02-06T09:00:25.286846Z",
     "start_time": "2020-02-06T09:00:25.233736Z"
    },
    "collapsed": true
   },
   "outputs": [],
   "source": [
    "result = pd.read_csv('rating_system.csv')"
   ]
  },
  {
   "cell_type": "code",
   "execution_count": 326,
   "metadata": {
    "ExecuteTime": {
     "end_time": "2020-02-06T09:00:29.493844Z",
     "start_time": "2020-02-06T09:00:29.456320Z"
    },
    "collapsed": true
   },
   "outputs": [],
   "source": [
    "df1 = result[['FTR','match_rating']]"
   ]
  },
  {
   "cell_type": "code",
   "execution_count": 327,
   "metadata": {
    "ExecuteTime": {
     "end_time": "2020-02-06T09:00:30.226025Z",
     "start_time": "2020-02-06T09:00:30.179158Z"
    },
    "collapsed": true
   },
   "outputs": [],
   "source": [
    "df2 = df1.groupby('FTR')['match_rating'].value_counts()"
   ]
  },
  {
   "cell_type": "code",
   "execution_count": 328,
   "metadata": {
    "ExecuteTime": {
     "end_time": "2020-02-06T09:00:34.717333Z",
     "start_time": "2020-02-06T09:00:34.679553Z"
    },
    "collapsed": true
   },
   "outputs": [],
   "source": [
    "dfH = pd.DataFrame(df2.H)\n",
    "dfH.columns = ['H']\n",
    "dfD = pd.DataFrame(df2.D)\n",
    "dfD.columns = ['D']\n",
    "dfA = pd.DataFrame(df2.A)\n",
    "dfA.columns = ['A']"
   ]
  },
  {
   "cell_type": "code",
   "execution_count": 329,
   "metadata": {
    "ExecuteTime": {
     "end_time": "2020-02-06T09:00:35.903391Z",
     "start_time": "2020-02-06T09:00:35.865616Z"
    },
    "collapsed": true
   },
   "outputs": [],
   "source": [
    "df3 = dfH.combine_first(dfD).combine_first(dfA)"
   ]
  },
  {
   "cell_type": "code",
   "execution_count": 330,
   "metadata": {
    "ExecuteTime": {
     "end_time": "2020-02-06T09:00:36.884250Z",
     "start_time": "2020-02-06T09:00:36.868634Z"
    },
    "collapsed": true
   },
   "outputs": [],
   "source": [
    "df3.fillna(value=0, inplace=True)"
   ]
  },
  {
   "cell_type": "code",
   "execution_count": 331,
   "metadata": {
    "ExecuteTime": {
     "end_time": "2020-02-06T09:00:38.353915Z",
     "start_time": "2020-02-06T09:00:38.338319Z"
    },
    "collapsed": true
   },
   "outputs": [],
   "source": [
    "df4 = df3[['H','D','A']].copy()"
   ]
  },
  {
   "cell_type": "code",
   "execution_count": 332,
   "metadata": {
    "ExecuteTime": {
     "end_time": "2020-02-06T09:00:38.807803Z",
     "start_time": "2020-02-06T09:00:38.770072Z"
    },
    "collapsed": true
   },
   "outputs": [],
   "source": [
    "df4['pctH'] = df4['H']/(df4['H']+df4['D']+df4['A'])*100.0\n",
    "df4['pctD'] = df4['D']/(df4['H']+df4['D']+df4['A'])*100.0\n",
    "df4['pctA'] = df4['A']/(df4['H']+df4['D']+df4['A'])*100.0"
   ]
  },
  {
   "cell_type": "code",
   "execution_count": 333,
   "metadata": {
    "ExecuteTime": {
     "end_time": "2020-02-06T09:00:41.758954Z",
     "start_time": "2020-02-06T09:00:41.496009Z"
    }
   },
   "outputs": [
    {
     "data": {
      "text/plain": [
       "<matplotlib.collections.PathCollection at 0x250de7b8be0>"
      ]
     },
     "execution_count": 333,
     "metadata": {},
     "output_type": "execute_result"
    },
    {
     "data": {
      "image/png": "[encoded data removed]",
      "text/plain": [
       "<Figure size 432x288 with 1 Axes>"
      ]
     },
     "metadata": {},
     "output_type": "display_data"
    }
   ],
   "source": [
    "plt.scatter(df4.index,df4.pctH)"
   ]
  },
  {
   "cell_type": "code",
   "execution_count": 334,
   "metadata": {
    "ExecuteTime": {
     "end_time": "2020-02-06T09:00:44.863682Z",
     "start_time": "2020-02-06T09:00:44.663245Z"
    }
   },
   "outputs": [
    {
     "data": {
      "text/plain": [
       "<matplotlib.collections.PathCollection at 0x250e095b080>"
      ]
     },
     "execution_count": 334,
     "metadata": {},
     "output_type": "execute_result"
    },
    {
     "data": {
      "image/png": "[encoded data removed]",
      "text/plain": [
       "<Figure size 432x288 with 1 Axes>"
      ]
     },
     "metadata": {},
     "output_type": "display_data"
    }
   ],
   "source": [
    "plt.scatter(df4.index,df4.pctD,color='r')"
   ]
  },
  {
   "cell_type": "code",
   "execution_count": 335,
   "metadata": {
    "ExecuteTime": {
     "end_time": "2020-02-06T09:00:45.348309Z",
     "start_time": "2020-02-06T09:00:45.092371Z"
    }
   },
   "outputs": [
    {
     "data": {
      "text/plain": [
       "<matplotlib.collections.PathCollection at 0x250e09a7c50>"
      ]
     },
     "execution_count": 335,
     "metadata": {},
     "output_type": "execute_result"
    },
    {
     "data": {
      "image/png": "[encoded data removed]",
      "text/plain": [
       "<Figure size 432x288 with 1 Axes>"
      ]
     },
     "metadata": {},
     "output_type": "display_data"
    }
   ],
   "source": [
    "plt.scatter(df4.index,df4.pctA,color='g')"
   ]
  },
  {
   "cell_type": "markdown",
   "metadata": {},
   "source": [
    "### Home: linear regression"
   ]
  },
  {
   "cell_type": "code",
   "execution_count": 396,
   "metadata": {
    "ExecuteTime": {
     "end_time": "2020-02-06T10:39:01.245846Z",
     "start_time": "2020-02-06T10:39:01.162295Z"
    },
    "collapsed": true
   },
   "outputs": [],
   "source": [
    "from sklearn.linear_model import LinearRegression"
   ]
  },
  {
   "cell_type": "code",
   "execution_count": 435,
   "metadata": {
    "ExecuteTime": {
     "end_time": "2020-02-06T10:54:28.252795Z",
     "start_time": "2020-02-06T10:54:28.241008Z"
    },
    "collapsed": true
   },
   "outputs": [],
   "source": [
    "reg = LinearRegression()\n",
    "X = np.array(df4.index).reshape(-1, 1)\n",
    "y = df4.pctH\n",
    "reg.fit(X, y)\n",
    "\n",
    "#X_test = np.linspace(-25,24,num=len(y))\n",
    "y_pred = reg.predict(X.reshape(-1,1))"
   ]
  },
  {
   "cell_type": "code",
   "execution_count": 436,
   "metadata": {
    "ExecuteTime": {
     "end_time": "2020-02-06T10:54:29.104550Z",
     "start_time": "2020-02-06T10:54:29.095572Z"
    }
   },
   "outputs": [
    {
     "name": "stdout",
     "output_type": "stream",
     "text": [
      "[2.00971505] 48.232858858597844\n"
     ]
    }
   ],
   "source": [
    "print(reg.coef_, reg.intercept_)"
   ]
  },
  {
   "cell_type": "code",
   "execution_count": 437,
   "metadata": {
    "ExecuteTime": {
     "end_time": "2020-02-06T10:54:29.398474Z",
     "start_time": "2020-02-06T10:54:29.387287Z"
    }
   },
   "outputs": [
    {
     "data": {
      "text/plain": [
       "0.9156277445443289"
      ]
     },
     "execution_count": 437,
     "metadata": {},
     "output_type": "execute_result"
    }
   ],
   "source": [
    "from sklearn.metrics import r2_score\n",
    "r2_score(y, y_pred)"
   ]
  },
  {
   "cell_type": "code",
   "execution_count": 438,
   "metadata": {
    "ExecuteTime": {
     "end_time": "2020-02-06T10:54:29.846663Z",
     "start_time": "2020-02-06T10:54:29.839594Z"
    },
    "collapsed": true
   },
   "outputs": [],
   "source": [
    "home_reg = reg\n",
    "home_X = X\n",
    "home_y_pred = y_pred"
   ]
  },
  {
   "cell_type": "code",
   "execution_count": 439,
   "metadata": {
    "ExecuteTime": {
     "end_time": "2020-02-06T10:54:31.586151Z",
     "start_time": "2020-02-06T10:54:31.156061Z"
    }
   },
   "outputs": [
    {
     "data": {
      "text/plain": [
       "[<matplotlib.lines.Line2D at 0x250e30f62e8>]"
      ]
     },
     "execution_count": 439,
     "metadata": {},
     "output_type": "execute_result"
    },
    {
     "data": {
      "image/png": "[encoded data removed]",
      "text/plain": [
       "<Figure size 432x288 with 1 Axes>"
      ]
     },
     "metadata": {},
     "output_type": "display_data"
    }
   ],
   "source": [
    "plt.scatter(df4.index,df4.pctH)\n",
    "plt.plot(X,y_pred,'black')"
   ]
  },
  {
   "cell_type": "markdown",
   "metadata": {},
   "source": [
    "### DRAW: linear regression + poly"
   ]
  },
  {
   "cell_type": "code",
   "execution_count": 440,
   "metadata": {
    "ExecuteTime": {
     "end_time": "2020-02-06T10:54:32.779786Z",
     "start_time": "2020-02-06T10:54:32.766326Z"
    },
    "collapsed": true
   },
   "outputs": [],
   "source": [
    "from sklearn.preprocessing import PolynomialFeatures\n",
    "poly = PolynomialFeatures(degree=4,include_bias=False)\n",
    "\n",
    "\n",
    "X = np.array(df4.index).reshape(-1, 1)\n",
    "y = df4.pctD\n",
    "\n",
    "X_new = poly.fit_transform(X)\n"
   ]
  },
  {
   "cell_type": "code",
   "execution_count": 441,
   "metadata": {
    "ExecuteTime": {
     "end_time": "2020-02-06T10:54:33.457922Z",
     "start_time": "2020-02-06T10:54:33.446905Z"
    }
   },
   "outputs": [
    {
     "data": {
      "text/plain": [
       "LinearRegression(copy_X=True, fit_intercept=True, n_jobs=None, normalize=False)"
      ]
     },
     "execution_count": 441,
     "metadata": {},
     "output_type": "execute_result"
    }
   ],
   "source": [
    "reg = LinearRegression()\n",
    "reg.fit(X_new, y)"
   ]
  },
  {
   "cell_type": "code",
   "execution_count": 442,
   "metadata": {
    "ExecuteTime": {
     "end_time": "2020-02-06T10:54:33.978758Z",
     "start_time": "2020-02-06T10:54:33.968362Z"
    }
   },
   "outputs": [
    {
     "data": {
      "text/plain": [
       "array([-4.22060501e-01, -1.68610002e-02,  5.69533664e-04, -5.96150213e-05])"
      ]
     },
     "execution_count": 442,
     "metadata": {},
     "output_type": "execute_result"
    }
   ],
   "source": [
    "reg.coef_"
   ]
  },
  {
   "cell_type": "code",
   "execution_count": 443,
   "metadata": {
    "ExecuteTime": {
     "end_time": "2020-02-06T10:54:35.028262Z",
     "start_time": "2020-02-06T10:54:35.021333Z"
    }
   },
   "outputs": [],
   "source": [
    "#X_test = np.linspace(-25,24,num=len(y))\n",
    "y_pred = reg.predict(X_new)"
   ]
  },
  {
   "cell_type": "code",
   "execution_count": 444,
   "metadata": {
    "ExecuteTime": {
     "end_time": "2020-02-06T10:54:36.523153Z",
     "start_time": "2020-02-06T10:54:36.512222Z"
    }
   },
   "outputs": [
    {
     "data": {
      "text/plain": [
       "0.6442543667166147"
      ]
     },
     "execution_count": 444,
     "metadata": {},
     "output_type": "execute_result"
    }
   ],
   "source": [
    "r2_score(y, y_pred)"
   ]
  },
  {
   "cell_type": "code",
   "execution_count": 445,
   "metadata": {
    "ExecuteTime": {
     "end_time": "2020-02-06T10:54:37.189551Z",
     "start_time": "2020-02-06T10:54:37.182260Z"
    },
    "collapsed": true
   },
   "outputs": [],
   "source": [
    "draw_reg = reg\n",
    "draw_X = X\n",
    "draw_y_pred = y_pred"
   ]
  },
  {
   "cell_type": "code",
   "execution_count": 446,
   "metadata": {
    "ExecuteTime": {
     "end_time": "2020-02-06T10:54:38.687957Z",
     "start_time": "2020-02-06T10:54:38.422261Z"
    }
   },
   "outputs": [
    {
     "data": {
      "text/plain": [
       "[<matplotlib.lines.Line2D at 0x250e314e6d8>]"
      ]
     },
     "execution_count": 446,
     "metadata": {},
     "output_type": "execute_result"
    },
    {
     "data": {
      "image/png": "[encoded data removed]",
      "text/plain": [
       "<Figure size 432x288 with 1 Axes>"
      ]
     },
     "metadata": {},
     "output_type": "display_data"
    }
   ],
   "source": [
    "plt.scatter(df4.index,df4.pctD,color='r')\n",
    "plt.plot(X,y_pred,'black')"
   ]
  },
  {
   "cell_type": "markdown",
   "metadata": {},
   "source": [
    "### AWAY: linear regr + poly"
   ]
  },
  {
   "cell_type": "code",
   "execution_count": 447,
   "metadata": {
    "ExecuteTime": {
     "end_time": "2020-02-06T10:54:39.900837Z",
     "start_time": "2020-02-06T10:54:39.891259Z"
    },
    "collapsed": true
   },
   "outputs": [],
   "source": [
    "X = np.array(df4.index).reshape(-1, 1)\n",
    "y = df4.pctA\n",
    "X_new = poly.fit_transform(X)"
   ]
  },
  {
   "cell_type": "code",
   "execution_count": 448,
   "metadata": {
    "ExecuteTime": {
     "end_time": "2020-02-06T10:54:40.560461Z",
     "start_time": "2020-02-06T10:54:40.546405Z"
    }
   },
   "outputs": [
    {
     "data": {
      "text/plain": [
       "LinearRegression(copy_X=True, fit_intercept=True, n_jobs=None, normalize=False)"
      ]
     },
     "execution_count": 448,
     "metadata": {},
     "output_type": "execute_result"
    }
   ],
   "source": [
    "reg = LinearRegression()\n",
    "reg.fit(X_new, y)"
   ]
  },
  {
   "cell_type": "code",
   "execution_count": 449,
   "metadata": {
    "ExecuteTime": {
     "end_time": "2020-02-06T10:54:41.035135Z",
     "start_time": "2020-02-06T10:54:41.025599Z"
    }
   },
   "outputs": [
    {
     "data": {
      "text/plain": [
       "array([-1.35184409e+00,  4.80932736e-03, -1.22298515e-03,  5.91803454e-05])"
      ]
     },
     "execution_count": 449,
     "metadata": {},
     "output_type": "execute_result"
    }
   ],
   "source": [
    "reg.coef_"
   ]
  },
  {
   "cell_type": "code",
   "execution_count": 450,
   "metadata": {
    "ExecuteTime": {
     "end_time": "2020-02-06T10:54:42.106751Z",
     "start_time": "2020-02-06T10:54:42.098782Z"
    },
    "collapsed": true
   },
   "outputs": [],
   "source": [
    "#X_test = np.linspace(-25,24,num=len(y))\n",
    "y_pred = reg.predict(X_new)"
   ]
  },
  {
   "cell_type": "code",
   "execution_count": 451,
   "metadata": {
    "ExecuteTime": {
     "end_time": "2020-02-06T10:54:42.818467Z",
     "start_time": "2020-02-06T10:54:42.809281Z"
    },
    "collapsed": true
   },
   "outputs": [],
   "source": [
    "away_reg = reg\n",
    "away_X = X\n",
    "away_y_pred = y_pred"
   ]
  },
  {
   "cell_type": "code",
   "execution_count": 452,
   "metadata": {
    "ExecuteTime": {
     "end_time": "2020-02-06T10:54:43.780612Z",
     "start_time": "2020-02-06T10:54:43.767576Z"
    }
   },
   "outputs": [
    {
     "data": {
      "text/plain": [
       "0.9261540639620697"
      ]
     },
     "execution_count": 452,
     "metadata": {},
     "output_type": "execute_result"
    }
   ],
   "source": [
    "r2_score(y, y_pred)"
   ]
  },
  {
   "cell_type": "code",
   "execution_count": 453,
   "metadata": {
    "ExecuteTime": {
     "end_time": "2020-02-06T10:54:44.528894Z",
     "start_time": "2020-02-06T10:54:44.251014Z"
    }
   },
   "outputs": [
    {
     "data": {
      "text/plain": [
       "[<matplotlib.lines.Line2D at 0x250e31b2940>]"
      ]
     },
     "execution_count": 453,
     "metadata": {},
     "output_type": "execute_result"
    },
    {
     "data": {
      "image/png": "[encoded data removed]",
      "text/plain": [
       "<Figure size 432x288 with 1 Axes>"
      ]
     },
     "metadata": {},
     "output_type": "display_data"
    }
   ],
   "source": [
    "plt.scatter(df4.index,df4.pctA,color='g')\n",
    "plt.plot(X,y_pred,'black')"
   ]
  },
  {
   "cell_type": "markdown",
   "metadata": {},
   "source": [
    "## Matrice fair odds"
   ]
  },
  {
   "cell_type": "code",
   "execution_count": 489,
   "metadata": {
    "ExecuteTime": {
     "end_time": "2020-02-06T11:22:47.942067Z",
     "start_time": "2020-02-06T11:22:47.929034Z"
    }
   },
   "outputs": [],
   "source": [
    "fair_odds = pd.DataFrame(index=X[:,0])\n",
    "fair_odds['rating'] = fair_odds.index\n",
    "fair_odds['home_exp'] = home_y_pred\n",
    "fair_odds['draw_exp'] = draw_y_pred\n",
    "fair_odds['away_exp'] = away_y_pred"
   ]
  },
  {
   "cell_type": "code",
   "execution_count": 490,
   "metadata": {
    "ExecuteTime": {
     "end_time": "2020-02-06T11:22:48.430751Z",
     "start_time": "2020-02-06T11:22:48.423350Z"
    }
   },
   "outputs": [],
   "source": [
    "fair_odds = fair_odds.loc[-22:22]"
   ]
  },
  {
   "cell_type": "code",
   "execution_count": 493,
   "metadata": {
    "ExecuteTime": {
     "end_time": "2020-02-06T11:23:56.973174Z",
     "start_time": "2020-02-06T11:23:56.424892Z"
    }
   },
   "outputs": [],
   "source": [
    "fair_odds['total'] = fair_odds.home_exp + fair_odds.draw_exp + fair_odds.away_exp"
   ]
  },
  {
   "cell_type": "code",
   "execution_count": 497,
   "metadata": {
    "ExecuteTime": {
     "end_time": "2020-02-06T11:25:59.710516Z",
     "start_time": "2020-02-06T11:25:59.695561Z"
    }
   },
   "outputs": [],
   "source": [
    "fair_odds['fair_h_odds'] = fair_odds.total/fair_odds.home_exp\n",
    "fair_odds['fair_a_odds'] = fair_odds.total/fair_odds.away_exp\n",
    "fair_odds['fair_d_odds'] = fair_odds.total/fair_odds.draw_exp"
   ]
  },
  {
   "cell_type": "code",
   "execution_count": 498,
   "metadata": {
    "ExecuteTime": {
     "end_time": "2020-02-06T11:26:00.162753Z",
     "start_time": "2020-02-06T11:26:00.111327Z"
    }
   },
   "outputs": [
    {
     "data": {
      "text/html": [
       "<div>\n",
       "<style>\n",
       "    .dataframe thead tr:only-child th {\n",
       "        text-align: right;\n",
       "    }\n",
       "\n",
       "    .dataframe thead th {\n",
       "        text-align: left;\n",
       "    }\n",
       "\n",
       "    .dataframe tbody tr th {\n",
       "        vertical-align: top;\n",
       "    }\n",
       "</style>\n",
       "<table border=\"1\" class=\"dataframe\">\n",
       "  <thead>\n",
       "    <tr style=\"text-align: right;\">\n",
       "      <th></th>\n",
       "      <th>rating</th>\n",
       "      <th>home_exp</th>\n",
       "      <th>draw_exp</th>\n",
       "      <th>away_exp</th>\n",
       "      <th>total</th>\n",
       "      <th>fair_h_odds</th>\n",
       "      <th>fair_a_odds</th>\n",
       "      <th>fair_d_odds</th>\n",
       "    </tr>\n",
       "  </thead>\n",
       "  <tbody>\n",
       "    <tr>\n",
       "      <th>-22.0</th>\n",
       "      <td>-22.0</td>\n",
       "      <td>4.019128</td>\n",
       "      <td>8.316644</td>\n",
       "      <td>85.934497</td>\n",
       "      <td>98.270268</td>\n",
       "      <td>24.450646</td>\n",
       "      <td>1.143549</td>\n",
       "      <td>11.816097</td>\n",
       "    </tr>\n",
       "    <tr>\n",
       "      <th>-21.0</th>\n",
       "      <td>-21.0</td>\n",
       "      <td>6.028843</td>\n",
       "      <td>11.780737</td>\n",
       "      <td>80.325673</td>\n",
       "      <td>98.135253</td>\n",
       "      <td>16.277627</td>\n",
       "      <td>1.221717</td>\n",
       "      <td>8.330146</td>\n",
       "    </tr>\n",
       "    <tr>\n",
       "      <th>-20.0</th>\n",
       "      <td>-20.0</td>\n",
       "      <td>8.038558</td>\n",
       "      <td>14.823745</td>\n",
       "      <td>75.193865</td>\n",
       "      <td>98.056168</td>\n",
       "      <td>12.198229</td>\n",
       "      <td>1.304045</td>\n",
       "      <td>6.614804</td>\n",
       "    </tr>\n",
       "    <tr>\n",
       "      <th>-19.0</th>\n",
       "      <td>-19.0</td>\n",
       "      <td>10.048273</td>\n",
       "      <td>17.478416</td>\n",
       "      <td>70.502618</td>\n",
       "      <td>98.029306</td>\n",
       "      <td>9.755836</td>\n",
       "      <td>1.390435</td>\n",
       "      <td>5.608592</td>\n",
       "    </tr>\n",
       "    <tr>\n",
       "      <th>-18.0</th>\n",
       "      <td>-18.0</td>\n",
       "      <td>12.057988</td>\n",
       "      <td>19.776066</td>\n",
       "      <td>66.216897</td>\n",
       "      <td>98.050951</td>\n",
       "      <td>8.131618</td>\n",
       "      <td>1.480754</td>\n",
       "      <td>4.958061</td>\n",
       "    </tr>\n",
       "    <tr>\n",
       "      <th>-17.0</th>\n",
       "      <td>-17.0</td>\n",
       "      <td>14.067703</td>\n",
       "      <td>21.746582</td>\n",
       "      <td>62.303089</td>\n",
       "      <td>98.117374</td>\n",
       "      <td>6.974655</td>\n",
       "      <td>1.574840</td>\n",
       "      <td>4.511853</td>\n",
       "    </tr>\n",
       "    <tr>\n",
       "      <th>-16.0</th>\n",
       "      <td>-16.0</td>\n",
       "      <td>16.077418</td>\n",
       "      <td>23.418420</td>\n",
       "      <td>58.728999</td>\n",
       "      <td>98.224837</td>\n",
       "      <td>6.109491</td>\n",
       "      <td>1.672510</td>\n",
       "      <td>4.194341</td>\n",
       "    </tr>\n",
       "    <tr>\n",
       "      <th>-15.0</th>\n",
       "      <td>-15.0</td>\n",
       "      <td>18.087133</td>\n",
       "      <td>24.818604</td>\n",
       "      <td>55.463856</td>\n",
       "      <td>98.369592</td>\n",
       "      <td>5.438650</td>\n",
       "      <td>1.773580</td>\n",
       "      <td>3.963543</td>\n",
       "    </tr>\n",
       "    <tr>\n",
       "      <th>-14.0</th>\n",
       "      <td>-14.0</td>\n",
       "      <td>20.096848</td>\n",
       "      <td>25.972728</td>\n",
       "      <td>52.478305</td>\n",
       "      <td>98.547880</td>\n",
       "      <td>4.903649</td>\n",
       "      <td>1.877879</td>\n",
       "      <td>3.794283</td>\n",
       "    </tr>\n",
       "    <tr>\n",
       "      <th>-13.0</th>\n",
       "      <td>-13.0</td>\n",
       "      <td>22.106563</td>\n",
       "      <td>26.904955</td>\n",
       "      <td>49.744414</td>\n",
       "      <td>98.755932</td>\n",
       "      <td>4.467268</td>\n",
       "      <td>1.985267</td>\n",
       "      <td>3.670548</td>\n",
       "    </tr>\n",
       "    <tr>\n",
       "      <th>-12.0</th>\n",
       "      <td>-12.0</td>\n",
       "      <td>24.116278</td>\n",
       "      <td>27.638018</td>\n",
       "      <td>47.235670</td>\n",
       "      <td>98.989967</td>\n",
       "      <td>4.104695</td>\n",
       "      <td>2.095661</td>\n",
       "      <td>3.581659</td>\n",
       "    </tr>\n",
       "    <tr>\n",
       "      <th>-11.0</th>\n",
       "      <td>-11.0</td>\n",
       "      <td>26.125993</td>\n",
       "      <td>28.193219</td>\n",
       "      <td>44.926982</td>\n",
       "      <td>99.246195</td>\n",
       "      <td>3.798753</td>\n",
       "      <td>2.209055</td>\n",
       "      <td>3.520215</td>\n",
       "    </tr>\n",
       "    <tr>\n",
       "      <th>-10.0</th>\n",
       "      <td>-10.0</td>\n",
       "      <td>28.135708</td>\n",
       "      <td>28.590429</td>\n",
       "      <td>42.794678</td>\n",
       "      <td>99.520815</td>\n",
       "      <td>3.537171</td>\n",
       "      <td>2.325542</td>\n",
       "      <td>3.480914</td>\n",
       "    </tr>\n",
       "    <tr>\n",
       "      <th>-9.0</th>\n",
       "      <td>-9.0</td>\n",
       "      <td>30.145423</td>\n",
       "      <td>28.848087</td>\n",
       "      <td>40.816507</td>\n",
       "      <td>99.810017</td>\n",
       "      <td>3.310951</td>\n",
       "      <td>2.445335</td>\n",
       "      <td>3.459849</td>\n",
       "    </tr>\n",
       "    <tr>\n",
       "      <th>-8.0</th>\n",
       "      <td>-8.0</td>\n",
       "      <td>32.155138</td>\n",
       "      <td>28.983203</td>\n",
       "      <td>38.971637</td>\n",
       "      <td>100.109978</td>\n",
       "      <td>3.113343</td>\n",
       "      <td>2.568791</td>\n",
       "      <td>3.454069</td>\n",
       "    </tr>\n",
       "    <tr>\n",
       "      <th>-7.0</th>\n",
       "      <td>-7.0</td>\n",
       "      <td>34.164853</td>\n",
       "      <td>29.011356</td>\n",
       "      <td>37.240657</td>\n",
       "      <td>100.416867</td>\n",
       "      <td>2.939186</td>\n",
       "      <td>2.696431</td>\n",
       "      <td>3.461295</td>\n",
       "    </tr>\n",
       "    <tr>\n",
       "      <th>-6.0</th>\n",
       "      <td>-6.0</td>\n",
       "      <td>36.174569</td>\n",
       "      <td>28.946694</td>\n",
       "      <td>35.605579</td>\n",
       "      <td>100.726842</td>\n",
       "      <td>2.784466</td>\n",
       "      <td>2.828962</td>\n",
       "      <td>3.479736</td>\n",
       "    </tr>\n",
       "    <tr>\n",
       "      <th>-5.0</th>\n",
       "      <td>-5.0</td>\n",
       "      <td>38.184284</td>\n",
       "      <td>28.801934</td>\n",
       "      <td>34.049830</td>\n",
       "      <td>101.036048</td>\n",
       "      <td>2.646011</td>\n",
       "      <td>2.967300</td>\n",
       "      <td>3.507961</td>\n",
       "    </tr>\n",
       "    <tr>\n",
       "      <th>-4.0</th>\n",
       "      <td>-4.0</td>\n",
       "      <td>40.193999</td>\n",
       "      <td>28.588362</td>\n",
       "      <td>32.558263</td>\n",
       "      <td>101.340623</td>\n",
       "      <td>2.521287</td>\n",
       "      <td>3.112593</td>\n",
       "      <td>3.544821</td>\n",
       "    </tr>\n",
       "    <tr>\n",
       "      <th>-3.0</th>\n",
       "      <td>-3.0</td>\n",
       "      <td>42.203714</td>\n",
       "      <td>28.315834</td>\n",
       "      <td>31.117146</td>\n",
       "      <td>101.636694</td>\n",
       "      <td>2.408241</td>\n",
       "      <td>3.266260</td>\n",
       "      <td>3.589394</td>\n",
       "    </tr>\n",
       "    <tr>\n",
       "      <th>-2.0</th>\n",
       "      <td>-2.0</td>\n",
       "      <td>44.213429</td>\n",
       "      <td>27.992775</td>\n",
       "      <td>29.714172</td>\n",
       "      <td>101.920375</td>\n",
       "      <td>2.305190</td>\n",
       "      <td>3.430026</td>\n",
       "      <td>3.640953</td>\n",
       "    </tr>\n",
       "    <tr>\n",
       "      <th>-1.0</th>\n",
       "      <td>-1.0</td>\n",
       "      <td>46.223144</td>\n",
       "      <td>27.626178</td>\n",
       "      <td>28.338451</td>\n",
       "      <td>102.187773</td>\n",
       "      <td>2.210749</td>\n",
       "      <td>3.605976</td>\n",
       "      <td>3.698947</td>\n",
       "    </tr>\n",
       "    <tr>\n",
       "      <th>0.0</th>\n",
       "      <td>0.0</td>\n",
       "      <td>48.232859</td>\n",
       "      <td>27.221608</td>\n",
       "      <td>26.980516</td>\n",
       "      <td>102.434982</td>\n",
       "      <td>2.123759</td>\n",
       "      <td>3.796628</td>\n",
       "      <td>3.763003</td>\n",
       "    </tr>\n",
       "    <tr>\n",
       "      <th>1.0</th>\n",
       "      <td>1.0</td>\n",
       "      <td>50.242574</td>\n",
       "      <td>26.783196</td>\n",
       "      <td>25.632317</td>\n",
       "      <td>102.658087</td>\n",
       "      <td>2.043249</td>\n",
       "      <td>4.005026</td>\n",
       "      <td>3.832929</td>\n",
       "    </tr>\n",
       "    <tr>\n",
       "      <th>2.0</th>\n",
       "      <td>2.0</td>\n",
       "      <td>52.252289</td>\n",
       "      <td>26.313645</td>\n",
       "      <td>24.287228</td>\n",
       "      <td>102.853162</td>\n",
       "      <td>1.968395</td>\n",
       "      <td>4.234866</td>\n",
       "      <td>3.908739</td>\n",
       "    </tr>\n",
       "    <tr>\n",
       "      <th>3.0</th>\n",
       "      <td>3.0</td>\n",
       "      <td>54.262004</td>\n",
       "      <td>25.814226</td>\n",
       "      <td>22.940040</td>\n",
       "      <td>103.016270</td>\n",
       "      <td>1.898497</td>\n",
       "      <td>4.490675</td>\n",
       "      <td>3.990678</td>\n",
       "    </tr>\n",
       "    <tr>\n",
       "      <th>4.0</th>\n",
       "      <td>4.0</td>\n",
       "      <td>56.271719</td>\n",
       "      <td>25.284778</td>\n",
       "      <td>21.586968</td>\n",
       "      <td>103.143465</td>\n",
       "      <td>1.832954</td>\n",
       "      <td>4.778043</td>\n",
       "      <td>4.079271</td>\n",
       "    </tr>\n",
       "    <tr>\n",
       "      <th>5.0</th>\n",
       "      <td>5.0</td>\n",
       "      <td>58.281434</td>\n",
       "      <td>24.723713</td>\n",
       "      <td>20.225643</td>\n",
       "      <td>103.230790</td>\n",
       "      <td>1.771247</td>\n",
       "      <td>5.103956</td>\n",
       "      <td>4.175376</td>\n",
       "    </tr>\n",
       "    <tr>\n",
       "      <th>6.0</th>\n",
       "      <td>6.0</td>\n",
       "      <td>60.291149</td>\n",
       "      <td>24.128007</td>\n",
       "      <td>18.855120</td>\n",
       "      <td>103.274276</td>\n",
       "      <td>1.712926</td>\n",
       "      <td>5.477254</td>\n",
       "      <td>4.280266</td>\n",
       "    </tr>\n",
       "    <tr>\n",
       "      <th>7.0</th>\n",
       "      <td>7.0</td>\n",
       "      <td>62.300864</td>\n",
       "      <td>23.493210</td>\n",
       "      <td>17.475872</td>\n",
       "      <td>103.269946</td>\n",
       "      <td>1.657601</td>\n",
       "      <td>5.909287</td>\n",
       "      <td>4.395736</td>\n",
       "    </tr>\n",
       "    <tr>\n",
       "      <th>8.0</th>\n",
       "      <td>8.0</td>\n",
       "      <td>64.310579</td>\n",
       "      <td>22.813438</td>\n",
       "      <td>16.089794</td>\n",
       "      <td>103.213811</td>\n",
       "      <td>1.604927</td>\n",
       "      <td>6.414862</td>\n",
       "      <td>4.524255</td>\n",
       "    </tr>\n",
       "    <tr>\n",
       "      <th>9.0</th>\n",
       "      <td>9.0</td>\n",
       "      <td>66.320294</td>\n",
       "      <td>22.081378</td>\n",
       "      <td>14.700201</td>\n",
       "      <td>103.101873</td>\n",
       "      <td>1.554605</td>\n",
       "      <td>7.013637</td>\n",
       "      <td>4.669177</td>\n",
       "    </tr>\n",
       "    <tr>\n",
       "      <th>10.0</th>\n",
       "      <td>10.0</td>\n",
       "      <td>68.330009</td>\n",
       "      <td>21.288286</td>\n",
       "      <td>13.311826</td>\n",
       "      <td>102.930121</td>\n",
       "      <td>1.506368</td>\n",
       "      <td>7.732232</td>\n",
       "      <td>4.835059</td>\n",
       "    </tr>\n",
       "    <tr>\n",
       "      <th>11.0</th>\n",
       "      <td>11.0</td>\n",
       "      <td>70.339724</td>\n",
       "      <td>20.423987</td>\n",
       "      <td>11.930826</td>\n",
       "      <td>102.694537</td>\n",
       "      <td>1.459979</td>\n",
       "      <td>8.607496</td>\n",
       "      <td>5.028134</td>\n",
       "    </tr>\n",
       "    <tr>\n",
       "      <th>12.0</th>\n",
       "      <td>12.0</td>\n",
       "      <td>72.349440</td>\n",
       "      <td>19.476875</td>\n",
       "      <td>10.564775</td>\n",
       "      <td>102.391089</td>\n",
       "      <td>1.415230</td>\n",
       "      <td>9.691743</td>\n",
       "      <td>5.257059</td>\n",
       "    </tr>\n",
       "    <tr>\n",
       "      <th>13.0</th>\n",
       "      <td>13.0</td>\n",
       "      <td>74.359155</td>\n",
       "      <td>18.433913</td>\n",
       "      <td>9.222670</td>\n",
       "      <td>102.015738</td>\n",
       "      <td>1.371932</td>\n",
       "      <td>11.061410</td>\n",
       "      <td>5.534134</td>\n",
       "    </tr>\n",
       "    <tr>\n",
       "      <th>14.0</th>\n",
       "      <td>14.0</td>\n",
       "      <td>76.368870</td>\n",
       "      <td>17.280634</td>\n",
       "      <td>7.914928</td>\n",
       "      <td>101.564432</td>\n",
       "      <td>1.329919</td>\n",
       "      <td>12.832010</td>\n",
       "      <td>5.877356</td>\n",
       "    </tr>\n",
       "    <tr>\n",
       "      <th>15.0</th>\n",
       "      <td>15.0</td>\n",
       "      <td>78.378585</td>\n",
       "      <td>16.001141</td>\n",
       "      <td>6.653383</td>\n",
       "      <td>101.033109</td>\n",
       "      <td>1.289040</td>\n",
       "      <td>15.185223</td>\n",
       "      <td>6.314119</td>\n",
       "    </tr>\n",
       "    <tr>\n",
       "      <th>16.0</th>\n",
       "      <td>16.0</td>\n",
       "      <td>80.388300</td>\n",
       "      <td>14.578103</td>\n",
       "      <td>5.451294</td>\n",
       "      <td>100.417697</td>\n",
       "      <td>1.249158</td>\n",
       "      <td>18.420892</td>\n",
       "      <td>6.888255</td>\n",
       "    </tr>\n",
       "    <tr>\n",
       "      <th>17.0</th>\n",
       "      <td>17.0</td>\n",
       "      <td>82.398015</td>\n",
       "      <td>12.992763</td>\n",
       "      <td>4.323337</td>\n",
       "      <td>99.714115</td>\n",
       "      <td>1.210152</td>\n",
       "      <td>23.064153</td>\n",
       "      <td>7.674589</td>\n",
       "    </tr>\n",
       "    <tr>\n",
       "      <th>18.0</th>\n",
       "      <td>18.0</td>\n",
       "      <td>84.407730</td>\n",
       "      <td>11.224928</td>\n",
       "      <td>3.285611</td>\n",
       "      <td>98.918269</td>\n",
       "      <td>1.171910</td>\n",
       "      <td>30.106509</td>\n",
       "      <td>8.812374</td>\n",
       "    </tr>\n",
       "    <tr>\n",
       "      <th>19.0</th>\n",
       "      <td>19.0</td>\n",
       "      <td>86.417445</td>\n",
       "      <td>9.252979</td>\n",
       "      <td>2.355632</td>\n",
       "      <td>98.026056</td>\n",
       "      <td>1.134332</td>\n",
       "      <td>41.613487</td>\n",
       "      <td>10.593999</td>\n",
       "    </tr>\n",
       "    <tr>\n",
       "      <th>20.0</th>\n",
       "      <td>20.0</td>\n",
       "      <td>88.427160</td>\n",
       "      <td>7.053864</td>\n",
       "      <td>1.552339</td>\n",
       "      <td>97.033362</td>\n",
       "      <td>1.097325</td>\n",
       "      <td>62.507844</td>\n",
       "      <td>13.756059</td>\n",
       "    </tr>\n",
       "    <tr>\n",
       "      <th>21.0</th>\n",
       "      <td>21.0</td>\n",
       "      <td>90.436875</td>\n",
       "      <td>4.603098</td>\n",
       "      <td>0.896091</td>\n",
       "      <td>95.936064</td>\n",
       "      <td>1.060807</td>\n",
       "      <td>107.060682</td>\n",
       "      <td>20.841628</td>\n",
       "    </tr>\n",
       "    <tr>\n",
       "      <th>22.0</th>\n",
       "      <td>22.0</td>\n",
       "      <td>92.446590</td>\n",
       "      <td>1.874771</td>\n",
       "      <td>0.408665</td>\n",
       "      <td>94.730026</td>\n",
       "      <td>1.024700</td>\n",
       "      <td>231.803416</td>\n",
       "      <td>50.528862</td>\n",
       "    </tr>\n",
       "  </tbody>\n",
       "</table>\n",
       "</div>"
      ],
      "text/plain": [
       "       rating   home_exp   draw_exp   away_exp       total  fair_h_odds  \\\n",
       "-22.0   -22.0   4.019128   8.316644  85.934497   98.270268    24.450646   \n",
       "-21.0   -21.0   6.028843  11.780737  80.325673   98.135253    16.277627   \n",
       "-20.0   -20.0   8.038558  14.823745  75.193865   98.056168    12.198229   \n",
       "-19.0   -19.0  10.048273  17.478416  70.502618   98.029306     9.755836   \n",
       "-18.0   -18.0  12.057988  19.776066  66.216897   98.050951     8.131618   \n",
       "-17.0   -17.0  14.067703  21.746582  62.303089   98.117374     6.974655   \n",
       "-16.0   -16.0  16.077418  23.418420  58.728999   98.224837     6.109491   \n",
       "-15.0   -15.0  18.087133  24.818604  55.463856   98.369592     5.438650   \n",
       "-14.0   -14.0  20.096848  25.972728  52.478305   98.547880     4.903649   \n",
       "-13.0   -13.0  22.106563  26.904955  49.744414   98.755932     4.467268   \n",
       "-12.0   -12.0  24.116278  27.638018  47.235670   98.989967     4.104695   \n",
       "-11.0   -11.0  26.125993  28.193219  44.926982   99.246195     3.798753   \n",
       "-10.0   -10.0  28.135708  28.590429  42.794678   99.520815     3.537171   \n",
       "-9.0     -9.0  30.145423  28.848087  40.816507   99.810017     3.310951   \n",
       "-8.0     -8.0  32.155138  28.983203  38.971637  100.109978     3.113343   \n",
       "-7.0     -7.0  34.164853  29.011356  37.240657  100.416867     2.939186   \n",
       "-6.0     -6.0  36.174569  28.946694  35.605579  100.726842     2.784466   \n",
       "-5.0     -5.0  38.184284  28.801934  34.049830  101.036048     2.646011   \n",
       "-4.0     -4.0  40.193999  28.588362  32.558263  101.340623     2.521287   \n",
       "-3.0     -3.0  42.203714  28.315834  31.117146  101.636694     2.408241   \n",
       "-2.0     -2.0  44.213429  27.992775  29.714172  101.920375     2.305190   \n",
       "-1.0     -1.0  46.223144  27.626178  28.338451  102.187773     2.210749   \n",
       " 0.0      0.0  48.232859  27.221608  26.980516  102.434982     2.123759   \n",
       " 1.0      1.0  50.242574  26.783196  25.632317  102.658087     2.043249   \n",
       " 2.0      2.0  52.252289  26.313645  24.287228  102.853162     1.968395   \n",
       " 3.0      3.0  54.262004  25.814226  22.940040  103.016270     1.898497   \n",
       " 4.0      4.0  56.271719  25.284778  21.586968  103.143465     1.832954   \n",
       " 5.0      5.0  58.281434  24.723713  20.225643  103.230790     1.771247   \n",
       " 6.0      6.0  60.291149  24.128007  18.855120  103.274276     1.712926   \n",
       " 7.0      7.0  62.300864  23.493210  17.475872  103.269946     1.657601   \n",
       " 8.0      8.0  64.310579  22.813438  16.089794  103.213811     1.604927   \n",
       " 9.0      9.0  66.320294  22.081378  14.700201  103.101873     1.554605   \n",
       " 10.0    10.0  68.330009  21.288286  13.311826  102.930121     1.506368   \n",
       " 11.0    11.0  70.339724  20.423987  11.930826  102.694537     1.459979   \n",
       " 12.0    12.0  72.349440  19.476875  10.564775  102.391089     1.415230   \n",
       " 13.0    13.0  74.359155  18.433913   9.222670  102.015738     1.371932   \n",
       " 14.0    14.0  76.368870  17.280634   7.914928  101.564432     1.329919   \n",
       " 15.0    15.0  78.378585  16.001141   6.653383  101.033109     1.289040   \n",
       " 16.0    16.0  80.388300  14.578103   5.451294  100.417697     1.249158   \n",
       " 17.0    17.0  82.398015  12.992763   4.323337   99.714115     1.210152   \n",
       " 18.0    18.0  84.407730  11.224928   3.285611   98.918269     1.171910   \n",
       " 19.0    19.0  86.417445   9.252979   2.355632   98.026056     1.134332   \n",
       " 20.0    20.0  88.427160   7.053864   1.552339   97.033362     1.097325   \n",
       " 21.0    21.0  90.436875   4.603098   0.896091   95.936064     1.060807   \n",
       " 22.0    22.0  92.446590   1.874771   0.408665   94.730026     1.024700   \n",
       "\n",
       "       fair_a_odds  fair_d_odds  \n",
       "-22.0     1.143549    11.816097  \n",
       "-21.0     1.221717     8.330146  \n",
       "-20.0     1.304045     6.614804  \n",
       "-19.0     1.390435     5.608592  \n",
       "-18.0     1.480754     4.958061  \n",
       "-17.0     1.574840     4.511853  \n",
       "-16.0     1.672510     4.194341  \n",
       "-15.0     1.773580     3.963543  \n",
       "-14.0     1.877879     3.794283  \n",
       "-13.0     1.985267     3.670548  \n",
       "-12.0     2.095661     3.581659  \n",
       "-11.0     2.209055     3.520215  \n",
       "-10.0     2.325542     3.480914  \n",
       "-9.0      2.445335     3.459849  \n",
       "-8.0      2.568791     3.454069  \n",
       "-7.0      2.696431     3.461295  \n",
       "-6.0      2.828962     3.479736  \n",
       "-5.0      2.967300     3.507961  \n",
       "-4.0      3.112593     3.544821  \n",
       "-3.0      3.266260     3.589394  \n",
       "-2.0      3.430026     3.640953  \n",
       "-1.0      3.605976     3.698947  \n",
       " 0.0      3.796628     3.763003  \n",
       " 1.0      4.005026     3.832929  \n",
       " 2.0      4.234866     3.908739  \n",
       " 3.0      4.490675     3.990678  \n",
       " 4.0      4.778043     4.079271  \n",
       " 5.0      5.103956     4.175376  \n",
       " 6.0      5.477254     4.280266  \n",
       " 7.0      5.909287     4.395736  \n",
       " 8.0      6.414862     4.524255  \n",
       " 9.0      7.013637     4.669177  \n",
       " 10.0     7.732232     4.835059  \n",
       " 11.0     8.607496     5.028134  \n",
       " 12.0     9.691743     5.257059  \n",
       " 13.0    11.061410     5.534134  \n",
       " 14.0    12.832010     5.877356  \n",
       " 15.0    15.185223     6.314119  \n",
       " 16.0    18.420892     6.888255  \n",
       " 17.0    23.064153     7.674589  \n",
       " 18.0    30.106509     8.812374  \n",
       " 19.0    41.613487    10.593999  \n",
       " 20.0    62.507844    13.756059  \n",
       " 21.0   107.060682    20.841628  \n",
       " 22.0   231.803416    50.528862  "
      ]
     },
     "execution_count": 498,
     "metadata": {},
     "output_type": "execute_result"
    }
   ],
   "source": [
    "fair_odds"
   ]
  },
  {
   "cell_type": "code",
   "execution_count": null,
   "metadata": {
    "collapsed": true
   },
   "outputs": [],
   "source": []
  },
  {
   "cell_type": "code",
   "execution_count": null,
   "metadata": {
    "collapsed": true
   },
   "outputs": [],
   "source": []
  },
  {
   "cell_type": "code",
   "execution_count": 503,
   "metadata": {
    "ExecuteTime": {
     "end_time": "2020-02-06T11:33:52.556608Z",
     "start_time": "2020-02-06T11:33:51.756988Z"
    },
    "scrolled": true
   },
   "outputs": [
    {
     "name": "stdout",
     "output_type": "stream",
     "text": [
      "['Parma', 'Fiorentina', 'Udinese', 'Cagliari', 'Roma', 'Sampdoria', 'Spal', 'Torino', 'Verona', 'Inter', 'Bologna', 'Milan', 'Juventus', 'Lazio', 'Atalanta', 'Genoa', 'Lecce', 'Sassuolo', 'Napoli', 'Brescia']\n"
     ]
    }
   ],
   "source": [
    "filename = 'datasets/I1-2020.csv'\n",
    "#filename = 'datasets/E0-' + str(year) + '.csv'\n",
    "df = pd.read_csv(filename)\n",
    "df.dropna(how='all',inplace=True)  # droppa se tutta la riga è nan\n",
    "\n",
    "teams = df.HomeTeam.unique().tolist()\n",
    "print(teams)\n",
    "\n",
    "stats = df[['Date','HomeTeam', 'AwayTeam', 'FTHG', 'FTAG', 'FTR']].copy()\n",
    "\n",
    "all_team_stats = {}\n",
    "\n",
    "for team in teams:\n",
    "    team_stats = stats[(stats.HomeTeam == team)|(stats.AwayTeam == team)].copy()\n",
    "\n",
    "    team_stats.loc[:,'scored'] = team_stats.apply(scored, team=team, axis=1)\n",
    "    team_stats.loc[:,'conceded'] = team_stats.apply(conceded, team=team, axis=1)\n",
    "\n",
    "    team_stats.loc[:,'rolling_scored'] = team_stats['scored'].rolling(window=N_PREV_GAMES).sum()\n",
    "    team_stats.loc[:,'rolling_conceded'] = team_stats['conceded'].rolling(window=N_PREV_GAMES).sum()\n",
    "\n",
    "    team_stats['rating'] = team_stats['rolling_scored'] - team_stats['rolling_conceded']\n",
    "    team_stats['Date'] = pd.to_datetime(team_stats['Date'], infer_datetime_format=True)\n",
    "    team_stats.rating = team_stats.rating.shift(1)\n",
    "\n",
    "    all_team_stats[team] = team_stats\n",
    "\n",
    "stats['id'] = stats.index\n",
    "stats['match_rating'] = stats.apply(calc_match_rating, axis=1)\n"
   ]
  },
  {
   "cell_type": "code",
   "execution_count": 513,
   "metadata": {
    "ExecuteTime": {
     "end_time": "2020-02-06T16:22:34.712612Z",
     "start_time": "2020-02-06T16:22:34.662630Z"
    }
   },
   "outputs": [
    {
     "data": {
      "text/html": [
       "<div>\n",
       "<style>\n",
       "    .dataframe thead tr:only-child th {\n",
       "        text-align: right;\n",
       "    }\n",
       "\n",
       "    .dataframe thead th {\n",
       "        text-align: left;\n",
       "    }\n",
       "\n",
       "    .dataframe tbody tr th {\n",
       "        vertical-align: top;\n",
       "    }\n",
       "</style>\n",
       "<table border=\"1\" class=\"dataframe\">\n",
       "  <thead>\n",
       "    <tr style=\"text-align: right;\">\n",
       "      <th></th>\n",
       "      <th>Date</th>\n",
       "      <th>HomeTeam</th>\n",
       "      <th>AwayTeam</th>\n",
       "      <th>FTHG</th>\n",
       "      <th>FTAG</th>\n",
       "      <th>FTR</th>\n",
       "      <th>id</th>\n",
       "      <th>match_rating</th>\n",
       "    </tr>\n",
       "  </thead>\n",
       "  <tbody>\n",
       "    <tr>\n",
       "      <th>210</th>\n",
       "      <td>01/02/2020</td>\n",
       "      <td>Cagliari</td>\n",
       "      <td>Parma</td>\n",
       "      <td>2</td>\n",
       "      <td>2</td>\n",
       "      <td>D</td>\n",
       "      <td>210</td>\n",
       "      <td>-7.0</td>\n",
       "    </tr>\n",
       "    <tr>\n",
       "      <th>211</th>\n",
       "      <td>01/02/2020</td>\n",
       "      <td>Sassuolo</td>\n",
       "      <td>Roma</td>\n",
       "      <td>4</td>\n",
       "      <td>2</td>\n",
       "      <td>H</td>\n",
       "      <td>211</td>\n",
       "      <td>-6.0</td>\n",
       "    </tr>\n",
       "    <tr>\n",
       "      <th>212</th>\n",
       "      <td>02/02/2020</td>\n",
       "      <td>Juventus</td>\n",
       "      <td>Fiorentina</td>\n",
       "      <td>3</td>\n",
       "      <td>0</td>\n",
       "      <td>H</td>\n",
       "      <td>212</td>\n",
       "      <td>8.0</td>\n",
       "    </tr>\n",
       "    <tr>\n",
       "      <th>213</th>\n",
       "      <td>02/02/2020</td>\n",
       "      <td>Atalanta</td>\n",
       "      <td>Genoa</td>\n",
       "      <td>2</td>\n",
       "      <td>2</td>\n",
       "      <td>D</td>\n",
       "      <td>213</td>\n",
       "      <td>22.0</td>\n",
       "    </tr>\n",
       "    <tr>\n",
       "      <th>214</th>\n",
       "      <td>02/02/2020</td>\n",
       "      <td>Lazio</td>\n",
       "      <td>Spal</td>\n",
       "      <td>5</td>\n",
       "      <td>1</td>\n",
       "      <td>H</td>\n",
       "      <td>214</td>\n",
       "      <td>14.0</td>\n",
       "    </tr>\n",
       "    <tr>\n",
       "      <th>215</th>\n",
       "      <td>02/02/2020</td>\n",
       "      <td>Milan</td>\n",
       "      <td>Verona</td>\n",
       "      <td>1</td>\n",
       "      <td>1</td>\n",
       "      <td>D</td>\n",
       "      <td>215</td>\n",
       "      <td>-6.0</td>\n",
       "    </tr>\n",
       "    <tr>\n",
       "      <th>216</th>\n",
       "      <td>02/02/2020</td>\n",
       "      <td>Lecce</td>\n",
       "      <td>Torino</td>\n",
       "      <td>4</td>\n",
       "      <td>0</td>\n",
       "      <td>H</td>\n",
       "      <td>216</td>\n",
       "      <td>-4.0</td>\n",
       "    </tr>\n",
       "    <tr>\n",
       "      <th>217</th>\n",
       "      <td>02/02/2020</td>\n",
       "      <td>Udinese</td>\n",
       "      <td>Inter</td>\n",
       "      <td>0</td>\n",
       "      <td>2</td>\n",
       "      <td>A</td>\n",
       "      <td>217</td>\n",
       "      <td>-6.0</td>\n",
       "    </tr>\n",
       "    <tr>\n",
       "      <th>218</th>\n",
       "      <td>03/02/2020</td>\n",
       "      <td>Sampdoria</td>\n",
       "      <td>Napoli</td>\n",
       "      <td>2</td>\n",
       "      <td>4</td>\n",
       "      <td>A</td>\n",
       "      <td>218</td>\n",
       "      <td>4.0</td>\n",
       "    </tr>\n",
       "    <tr>\n",
       "      <th>219</th>\n",
       "      <td>05/02/2020</td>\n",
       "      <td>Lazio</td>\n",
       "      <td>Verona</td>\n",
       "      <td>0</td>\n",
       "      <td>0</td>\n",
       "      <td>D</td>\n",
       "      <td>219</td>\n",
       "      <td>5.0</td>\n",
       "    </tr>\n",
       "  </tbody>\n",
       "</table>\n",
       "</div>"
      ],
      "text/plain": [
       "           Date   HomeTeam    AwayTeam  FTHG  FTAG FTR   id  match_rating\n",
       "210  01/02/2020   Cagliari       Parma     2     2   D  210          -7.0\n",
       "211  01/02/2020   Sassuolo        Roma     4     2   H  211          -6.0\n",
       "212  02/02/2020   Juventus  Fiorentina     3     0   H  212           8.0\n",
       "213  02/02/2020   Atalanta       Genoa     2     2   D  213          22.0\n",
       "214  02/02/2020      Lazio        Spal     5     1   H  214          14.0\n",
       "215  02/02/2020      Milan      Verona     1     1   D  215          -6.0\n",
       "216  02/02/2020      Lecce      Torino     4     0   H  216          -4.0\n",
       "217  02/02/2020    Udinese       Inter     0     2   A  217          -6.0\n",
       "218  03/02/2020  Sampdoria      Napoli     2     4   A  218           4.0\n",
       "219  05/02/2020      Lazio      Verona     0     0   D  219           5.0"
      ]
     },
     "execution_count": 513,
     "metadata": {},
     "output_type": "execute_result"
    }
   ],
   "source": [
    "stats.tail(10)"
   ]
  },
  {
   "cell_type": "code",
   "execution_count": 510,
   "metadata": {
    "ExecuteTime": {
     "end_time": "2020-02-06T16:21:45.102560Z",
     "start_time": "2020-02-06T16:21:45.074846Z"
    },
    "scrolled": false
   },
   "outputs": [
    {
     "data": {
      "text/plain": [
       "Date                2020-02-02 00:00:00\n",
       "HomeTeam                       Juventus\n",
       "AwayTeam                     Fiorentina\n",
       "FTHG                                  3\n",
       "FTAG                                  0\n",
       "FTR                                   H\n",
       "scored                                3\n",
       "conceded                              0\n",
       "rolling_scored                       14\n",
       "rolling_conceded                      5\n",
       "rating                                8\n",
       "Name: 212, dtype: object"
      ]
     },
     "execution_count": 510,
     "metadata": {},
     "output_type": "execute_result"
    }
   ],
   "source": [
    "all_team_stats['Juventus'].loc[212]"
   ]
  },
  {
   "cell_type": "code",
   "execution_count": 511,
   "metadata": {
    "ExecuteTime": {
     "end_time": "2020-02-06T16:21:51.012412Z",
     "start_time": "2020-02-06T16:21:50.997442Z"
    }
   },
   "outputs": [
    {
     "data": {
      "text/plain": [
       "Date                2020-02-02 00:00:00\n",
       "HomeTeam                       Juventus\n",
       "AwayTeam                     Fiorentina\n",
       "FTHG                                  3\n",
       "FTAG                                  0\n",
       "FTR                                   H\n",
       "scored                                0\n",
       "conceded                              3\n",
       "rolling_scored                        5\n",
       "rolling_conceded                      8\n",
       "rating                                0\n",
       "Name: 212, dtype: object"
      ]
     },
     "execution_count": 511,
     "metadata": {},
     "output_type": "execute_result"
    }
   ],
   "source": [
    "all_team_stats['Fiorentina'].loc[212]"
   ]
  },
  {
   "cell_type": "code",
   "execution_count": null,
   "metadata": {
    "collapsed": true
   },
   "outputs": [],
   "source": []
  }
 ],
 "metadata": {
  "kernelspec": {
   "display_name": "Python 3",
   "language": "python",
   "name": "python3"
  },
  "language_info": {
   "codemirror_mode": {
    "name": "ipython",
    "version": 3
   },
   "file_extension": ".py",
   "mimetype": "text/x-python",
   "name": "python",
   "nbconvert_exporter": "python",
   "pygments_lexer": "ipython3",
   "version": "3.6.2"
  }
 },
 "nbformat": 4,
 "nbformat_minor": 2
}
