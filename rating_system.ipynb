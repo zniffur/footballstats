{
 "cells": [
  {
   "cell_type": "code",
   "execution_count": 1,
   "metadata": {
    "ExecuteTime": {
     "end_time": "2020-02-04T11:02:35.491689Z",
     "start_time": "2020-02-04T11:02:30.115837Z"
    }
   },
   "outputs": [],
   "source": [
    "import pandas as pd\n",
    "import matplotlib.pyplot as plt\n",
    "import numpy as np\n",
    "\n",
    "%matplotlib inline"
   ]
  },
  {
   "cell_type": "code",
   "execution_count": 2,
   "metadata": {
    "ExecuteTime": {
     "end_time": "2020-02-04T11:02:36.511733Z",
     "start_time": "2020-02-04T11:02:36.503637Z"
    }
   },
   "outputs": [],
   "source": [
    "N_PREV_GAMES = 6"
   ]
  },
  {
   "cell_type": "code",
   "execution_count": 3,
   "metadata": {
    "ExecuteTime": {
     "end_time": "2020-02-05T08:59:19.465193Z",
     "start_time": "2020-02-05T08:59:19.445374Z"
    }
   },
   "outputs": [],
   "source": [
    "def scored(row, team):\n",
    "    if row['HomeTeam'] == team:\n",
    "        return row.FTHG\n",
    "    if row['AwayTeam'] == team:\n",
    "        return row.FTAG\n",
    "    \n",
    "def conceded(row, team):\n",
    "    if row['HomeTeam'] == team:\n",
    "        return row.FTAG\n",
    "    if row['AwayTeam'] == team:\n",
    "        return row.FTHG\n",
    "\n",
    "def calc_match_rating(row):\n",
    "    h = row['HomeTeam']\n",
    "    a = row['AwayTeam']\n",
    "    i = row.id\n",
    "    return all_team_stats[stats.loc[i].HomeTeam].loc[i].rating -\\\n",
    "            all_team_stats[stats.loc[i].AwayTeam].loc[i].rating"
   ]
  },
  {
   "cell_type": "code",
   "execution_count": 125,
   "metadata": {
    "ExecuteTime": {
     "end_time": "2020-02-04T11:02:35.531482Z",
     "start_time": "2020-02-04T11:02:35.501270Z"
    }
   },
   "outputs": [
    {
     "name": "stdout",
     "output_type": "stream",
     "text": [
      "2008\n",
      "['Juventus', 'Lazio', 'Fiorentina', 'Genoa', 'Inter', 'Napoli', 'Palermo', 'Parma', 'Reggina', 'Siena', 'Empoli', 'Atalanta', 'Cagliari', 'Catania', 'Livorno', 'Roma', 'Sampdoria', 'Torino', 'Udinese', 'Milan']\n",
      "2009\n",
      "['Sampdoria', 'Udinese', 'Atalanta', 'Cagliari', 'Catania', 'Chievo', 'Fiorentina', 'Milan', 'Roma', 'Torino', 'Inter', 'Palermo', 'Bologna', 'Genoa', 'Juventus', 'Lazio', 'Lecce', 'Napoli', 'Reggina', 'Siena']\n",
      "2010\n",
      "['Bologna', 'Siena', 'Catania', 'Genoa', 'Inter', 'Juventus', 'Lazio', 'Livorno', 'Palermo', 'Udinese', 'Bari', 'Milan', 'Atalanta', 'Cagliari', 'Chievo', 'Fiorentina', 'Napoli', 'Parma', 'Roma', 'Sampdoria']\n",
      "2011\n",
      "['Roma', 'Udinese', 'Bari', 'Chievo', 'Fiorentina', 'Milan', 'Palermo', 'Parma', 'Sampdoria', 'Bologna', 'Cagliari', 'Cesena', 'Inter', 'Brescia', 'Catania', 'Genoa', 'Juventus', 'Lazio', 'Lecce', 'Napoli']\n",
      "2012\n",
      "['Milan', 'Cesena', 'Catania', 'Chievo', 'Fiorentina', 'Genoa', 'Juventus', 'Lecce', 'Palermo', 'Roma', 'Cagliari', 'Inter', 'Atalanta', 'Bologna', 'Lazio', 'Napoli', 'Parma', 'Siena', 'Udinese', 'Novara']\n",
      "2013\n",
      "['Fiorentina', 'Juventus', 'Atalanta', 'Chievo', 'Genoa', 'Milan', 'Palermo', 'Pescara', 'Roma', 'Siena', 'Bologna', 'Torino', 'Cagliari', 'Catania', 'Inter', 'Lazio', 'Napoli', 'Parma', 'Sampdoria', 'Udinese']\n",
      "2014\n",
      "['Sampdoria', 'Verona', 'Cagliari', 'Inter', 'Lazio', 'Livorno', 'Napoli', 'Parma', 'Torino', 'Fiorentina', 'Chievo', 'Juventus', 'Atalanta', 'Bologna', 'Catania', 'Genoa', 'Milan', 'Roma', 'Sassuolo', 'Udinese']\n",
      "2015\n",
      "['Chievo', 'Roma', 'Atalanta', 'Cesena', 'Genoa', 'Milan', 'Palermo', 'Sassuolo', 'Torino', 'Udinese', 'Empoli', 'Juventus', 'Cagliari', 'Fiorentina', 'Inter', 'Lazio', 'Napoli', 'Parma', 'Sampdoria', 'Verona']\n",
      "2016\n",
      "['Lazio', 'Verona', 'Empoli', 'Fiorentina', 'Frosinone', 'Inter', 'Juventus', 'Palermo', 'Sampdoria', 'Sassuolo', 'Bologna', 'Milan', 'Atalanta', 'Carpi', 'Chievo', 'Genoa', 'Napoli', 'Roma', 'Torino', 'Udinese']\n",
      "2017\n",
      "['Juventus', 'Roma', 'Atalanta', 'Bologna', 'Chievo', 'Empoli', 'Genoa', 'Milan', 'Palermo', 'Pescara', 'Lazio', 'Napoli', 'Cagliari', 'Crotone', 'Fiorentina', 'Inter', 'Sampdoria', 'Sassuolo', 'Torino', 'Udinese']\n",
      "2018\n",
      "['Juventus', 'Verona', 'Atalanta', 'Bologna', 'Crotone', 'Inter', 'Lazio', 'Sampdoria', 'Sassuolo', 'Udinese', 'Benevento', 'Genoa', 'Roma', 'Chievo', 'Fiorentina', 'Milan', 'Napoli', 'Spal', 'Torino', 'Cagliari']\n",
      "2019\n",
      "['Chievo', 'Lazio', 'Bologna', 'Empoli', 'Parma', 'Sassuolo', 'Torino', 'Atalanta', 'Juventus', 'Napoli', 'Cagliari', 'Fiorentina', 'Frosinone', 'Genoa', 'Inter', 'Spal', 'Udinese', 'Roma', 'Milan', 'Sampdoria']\n",
      "2020\n",
      "['Parma', 'Fiorentina', 'Udinese', 'Cagliari', 'Roma', 'Sampdoria', 'Spal', 'Torino', 'Verona', 'Inter', 'Bologna', 'Milan', 'Juventus', 'Lazio', 'Atalanta', 'Genoa', 'Lecce', 'Sassuolo', 'Napoli', 'Brescia']\n"
     ]
    }
   ],
   "source": [
    "result = pd.DataFrame()\n",
    "\n",
    "for year in range(2008,2021):\n",
    "    print(year)\n",
    "    filename = 'datasets/I1-' + str(year) + '.csv'\n",
    "    #filename = 'datasets/E0-' + str(year) + '.csv'\n",
    "    df = pd.read_csv(filename)\n",
    "    df.dropna(how='all',inplace=True)  # droppa se tutta la riga è nan\n",
    "\n",
    "    teams = df.HomeTeam.unique().tolist()\n",
    "    print(teams)\n",
    "\n",
    "    stats = df[['Date','HomeTeam', 'AwayTeam', 'FTHG', 'FTAG', 'FTR']].copy()\n",
    "\n",
    "    all_team_stats = {}\n",
    "\n",
    "    for team in teams:\n",
    "        team_stats = stats[(stats.HomeTeam == team)|(stats.AwayTeam == team)].copy()\n",
    "\n",
    "        team_stats.loc[:,'scored'] = team_stats.apply(scored, team=team, axis=1)\n",
    "        team_stats.loc[:,'conceded'] = team_stats.apply(conceded, team=team, axis=1)\n",
    "\n",
    "        team_stats.loc[:,'rolling_scored'] = team_stats['scored'].rolling(window=N_PREV_GAMES).sum()\n",
    "        team_stats.loc[:,'rolling_conceded'] = team_stats['conceded'].rolling(window=N_PREV_GAMES).sum()\n",
    "\n",
    "        team_stats['rating'] = team_stats['rolling_scored'] - team_stats['rolling_conceded']\n",
    "        team_stats['Date'] = pd.to_datetime(team_stats['Date'], infer_datetime_format=True)\n",
    "        team_stats.rating = team_stats.rating.shift(1)\n",
    "\n",
    "        all_team_stats[team] = team_stats\n",
    "\n",
    "    stats['id'] = stats.index\n",
    "    stats['match_rating'] = stats.apply(calc_match_rating, axis=1)\n",
    "\n",
    "    result = result.append(stats)"
   ]
  },
  {
   "cell_type": "code",
   "execution_count": 126,
   "metadata": {},
   "outputs": [],
   "source": [
    "result.dropna(inplace=True)"
   ]
  },
  {
   "cell_type": "code",
   "execution_count": 127,
   "metadata": {},
   "outputs": [
    {
     "data": {
      "text/plain": [
       "count    3956.000000\n",
       "mean       -0.297776\n",
       "std         6.991583\n",
       "min       -25.000000\n",
       "25%        -5.000000\n",
       "50%         0.000000\n",
       "75%         4.000000\n",
       "max        24.000000\n",
       "Name: match_rating, dtype: float64"
      ]
     },
     "execution_count": 127,
     "metadata": {},
     "output_type": "execute_result"
    }
   ],
   "source": [
    "result.match_rating.describe()"
   ]
  },
  {
   "cell_type": "code",
   "execution_count": 128,
   "metadata": {},
   "outputs": [
    {
     "data": {
      "text/plain": [
       "<matplotlib.axes._subplots.AxesSubplot at 0xf88c3c8>"
      ]
     },
     "execution_count": 128,
     "metadata": {},
     "output_type": "execute_result"
    },
    {
     "data": {
      "image/png": "[encoded data removed]",
      "text/plain": [
       "<Figure size 432x288 with 1 Axes>"
      ]
     },
     "metadata": {
      "needs_background": "light"
     },
     "output_type": "display_data"
    }
   ],
   "source": [
    "result.match_rating.plot(kind='hist', bins=49)"
   ]
  },
  {
   "cell_type": "code",
   "execution_count": 129,
   "metadata": {},
   "outputs": [],
   "source": [
    "df1 = result[['FTR','match_rating']]"
   ]
  },
  {
   "cell_type": "code",
   "execution_count": 130,
   "metadata": {},
   "outputs": [],
   "source": [
    "df2 = df1.groupby('FTR')['match_rating'].value_counts()"
   ]
  },
  {
   "cell_type": "code",
   "execution_count": 131,
   "metadata": {},
   "outputs": [],
   "source": [
    "dfH = pd.DataFrame(df2.H)\n",
    "dfH.columns = ['H']\n",
    "dfD = pd.DataFrame(df2.D)\n",
    "dfD.columns = ['D']\n",
    "dfA = pd.DataFrame(df2.A)\n",
    "dfA.columns = ['A']"
   ]
  },
  {
   "cell_type": "code",
   "execution_count": 132,
   "metadata": {},
   "outputs": [],
   "source": [
    "df3 = dfH.combine_first(dfD).combine_first(dfA)"
   ]
  },
  {
   "cell_type": "code",
   "execution_count": 133,
   "metadata": {},
   "outputs": [],
   "source": [
    "df3.fillna(value=0, inplace=True)"
   ]
  },
  {
   "cell_type": "code",
   "execution_count": 134,
   "metadata": {},
   "outputs": [],
   "source": [
    "df4 = df3[['H','D','A']].copy()"
   ]
  },
  {
   "cell_type": "code",
   "execution_count": 135,
   "metadata": {},
   "outputs": [],
   "source": [
    "df4['pctH'] = df4['H']/(df4['H']+df4['D']+df4['A'])*100.0\n",
    "df4['pctD'] = df4['D']/(df4['H']+df4['D']+df4['A'])*100.0\n",
    "df4['pctA'] = df4['A']/(df4['H']+df4['D']+df4['A'])*100.0"
   ]
  },
  {
   "cell_type": "code",
   "execution_count": 137,
   "metadata": {},
   "outputs": [
    {
     "data": {
      "text/plain": [
       "<matplotlib.collections.PathCollection at 0xfb57608>"
      ]
     },
     "execution_count": 137,
     "metadata": {},
     "output_type": "execute_result"
    },
    {
     "data": {
      "image/png": "[encoded data removed]",
      "text/plain": [
       "<Figure size 432x288 with 1 Axes>"
      ]
     },
     "metadata": {
      "needs_background": "light"
     },
     "output_type": "display_data"
    }
   ],
   "source": [
    "plt.scatter(df4.index,df4.pctH)"
   ]
  },
  {
   "cell_type": "code",
   "execution_count": 138,
   "metadata": {},
   "outputs": [
    {
     "data": {
      "text/plain": [
       "<matplotlib.collections.PathCollection at 0xfc12bc8>"
      ]
     },
     "execution_count": 138,
     "metadata": {},
     "output_type": "execute_result"
    },
    {
     "data": {
      "image/png": "[encoded data removed]",
      "text/plain": [
       "<Figure size 432x288 with 1 Axes>"
      ]
     },
     "metadata": {
      "needs_background": "light"
     },
     "output_type": "display_data"
    }
   ],
   "source": [
    "plt.scatter(df4.index,df4.pctD,color='r')"
   ]
  },
  {
   "cell_type": "code",
   "execution_count": 139,
   "metadata": {},
   "outputs": [
    {
     "data": {
      "text/plain": [
       "<matplotlib.collections.PathCollection at 0xfecc988>"
      ]
     },
     "execution_count": 139,
     "metadata": {},
     "output_type": "execute_result"
    },
    {
     "data": {
      "image/png": "[encoded data removed]",
      "text/plain": [
       "<Figure size 432x288 with 1 Axes>"
      ]
     },
     "metadata": {
      "needs_background": "light"
     },
     "output_type": "display_data"
    }
   ],
   "source": [
    "plt.scatter(df4.index,df4.pctA,color='g')"
   ]
  },
  {
   "cell_type": "code",
   "execution_count": 179,
   "metadata": {},
   "outputs": [],
   "source": [
    "from sklearn.linear_model import LinearRegression\n",
    "\n",
    "reg = LinearRegression()\n",
    "X = np.array(df4.index).reshape(-1, 1)\n",
    "y = df4.pctH\n",
    "reg.fit(X, y)\n",
    "\n",
    "X_test = np.linspace(-25,24,num=len(y))\n",
    "y_pred = reg.predict(X_test.reshape(-1,1))"
   ]
  },
  {
   "cell_type": "code",
   "execution_count": 180,
   "metadata": {},
   "outputs": [
    {
     "name": "stdout",
     "output_type": "stream",
     "text": [
      "[2.00971505] 48.232858858597844\n"
     ]
    }
   ],
   "source": [
    "print(reg.coef_, reg.intercept_)"
   ]
  },
  {
   "cell_type": "code",
   "execution_count": 181,
   "metadata": {},
   "outputs": [
    {
     "data": {
      "text/plain": [
       "0.9143762726303863"
      ]
     },
     "execution_count": 181,
     "metadata": {},
     "output_type": "execute_result"
    }
   ],
   "source": [
    "from sklearn.metrics import r2_score\n",
    "r2_score(y, y_pred)"
   ]
  },
  {
   "cell_type": "code",
   "execution_count": 183,
   "metadata": {},
   "outputs": [
    {
     "data": {
      "text/plain": [
       "[<matplotlib.lines.Line2D at 0x12148e88>]"
      ]
     },
     "execution_count": 183,
     "metadata": {},
     "output_type": "execute_result"
    },
    {
     "data": {
      "image/png": "[encoded data removed]",
      "text/plain": [
       "<Figure size 432x288 with 1 Axes>"
      ]
     },
     "metadata": {
      "needs_background": "light"
     },
     "output_type": "display_data"
    }
   ],
   "source": [
    "plt.scatter(df4.index,df4.pctH)\n",
    "plt.plot(X_test,y_pred,'black')"
   ]
  },
  {
   "cell_type": "code",
   "execution_count": 184,
   "metadata": {},
   "outputs": [
    {
     "data": {
      "text/html": [
       "<div>\n",
       "<style scoped>\n",
       "    .dataframe tbody tr th:only-of-type {\n",
       "        vertical-align: middle;\n",
       "    }\n",
       "\n",
       "    .dataframe tbody tr th {\n",
       "        vertical-align: top;\n",
       "    }\n",
       "\n",
       "    .dataframe thead th {\n",
       "        text-align: right;\n",
       "    }\n",
       "</style>\n",
       "<table border=\"1\" class=\"dataframe\">\n",
       "  <thead>\n",
       "    <tr style=\"text-align: right;\">\n",
       "      <th></th>\n",
       "      <th>H</th>\n",
       "      <th>D</th>\n",
       "      <th>A</th>\n",
       "      <th>pctH</th>\n",
       "      <th>pctD</th>\n",
       "      <th>pctA</th>\n",
       "    </tr>\n",
       "    <tr>\n",
       "      <th>match_rating</th>\n",
       "      <th></th>\n",
       "      <th></th>\n",
       "      <th></th>\n",
       "      <th></th>\n",
       "      <th></th>\n",
       "      <th></th>\n",
       "    </tr>\n",
       "  </thead>\n",
       "  <tbody>\n",
       "    <tr>\n",
       "      <th>-25.0</th>\n",
       "      <td>0.0</td>\n",
       "      <td>0.0</td>\n",
       "      <td>1.0</td>\n",
       "      <td>0.000000</td>\n",
       "      <td>0.000000</td>\n",
       "      <td>100.000000</td>\n",
       "    </tr>\n",
       "    <tr>\n",
       "      <th>-23.0</th>\n",
       "      <td>0.0</td>\n",
       "      <td>0.0</td>\n",
       "      <td>1.0</td>\n",
       "      <td>0.000000</td>\n",
       "      <td>0.000000</td>\n",
       "      <td>100.000000</td>\n",
       "    </tr>\n",
       "    <tr>\n",
       "      <th>-22.0</th>\n",
       "      <td>0.0</td>\n",
       "      <td>0.0</td>\n",
       "      <td>2.0</td>\n",
       "      <td>0.000000</td>\n",
       "      <td>0.000000</td>\n",
       "      <td>100.000000</td>\n",
       "    </tr>\n",
       "    <tr>\n",
       "      <th>-21.0</th>\n",
       "      <td>0.0</td>\n",
       "      <td>0.0</td>\n",
       "      <td>2.0</td>\n",
       "      <td>0.000000</td>\n",
       "      <td>0.000000</td>\n",
       "      <td>100.000000</td>\n",
       "    </tr>\n",
       "    <tr>\n",
       "      <th>-20.0</th>\n",
       "      <td>2.0</td>\n",
       "      <td>2.0</td>\n",
       "      <td>4.0</td>\n",
       "      <td>25.000000</td>\n",
       "      <td>25.000000</td>\n",
       "      <td>50.000000</td>\n",
       "    </tr>\n",
       "    <tr>\n",
       "      <th>-19.0</th>\n",
       "      <td>3.0</td>\n",
       "      <td>1.0</td>\n",
       "      <td>4.0</td>\n",
       "      <td>37.500000</td>\n",
       "      <td>12.500000</td>\n",
       "      <td>50.000000</td>\n",
       "    </tr>\n",
       "    <tr>\n",
       "      <th>-18.0</th>\n",
       "      <td>0.0</td>\n",
       "      <td>3.0</td>\n",
       "      <td>4.0</td>\n",
       "      <td>0.000000</td>\n",
       "      <td>42.857143</td>\n",
       "      <td>57.142857</td>\n",
       "    </tr>\n",
       "    <tr>\n",
       "      <th>-17.0</th>\n",
       "      <td>1.0</td>\n",
       "      <td>4.0</td>\n",
       "      <td>10.0</td>\n",
       "      <td>6.666667</td>\n",
       "      <td>26.666667</td>\n",
       "      <td>66.666667</td>\n",
       "    </tr>\n",
       "    <tr>\n",
       "      <th>-16.0</th>\n",
       "      <td>3.0</td>\n",
       "      <td>3.0</td>\n",
       "      <td>10.0</td>\n",
       "      <td>18.750000</td>\n",
       "      <td>18.750000</td>\n",
       "      <td>62.500000</td>\n",
       "    </tr>\n",
       "    <tr>\n",
       "      <th>-15.0</th>\n",
       "      <td>3.0</td>\n",
       "      <td>8.0</td>\n",
       "      <td>22.0</td>\n",
       "      <td>9.090909</td>\n",
       "      <td>24.242424</td>\n",
       "      <td>66.666667</td>\n",
       "    </tr>\n",
       "    <tr>\n",
       "      <th>-14.0</th>\n",
       "      <td>9.0</td>\n",
       "      <td>7.0</td>\n",
       "      <td>12.0</td>\n",
       "      <td>32.142857</td>\n",
       "      <td>25.000000</td>\n",
       "      <td>42.857143</td>\n",
       "    </tr>\n",
       "    <tr>\n",
       "      <th>-13.0</th>\n",
       "      <td>9.0</td>\n",
       "      <td>9.0</td>\n",
       "      <td>16.0</td>\n",
       "      <td>26.470588</td>\n",
       "      <td>26.470588</td>\n",
       "      <td>47.058824</td>\n",
       "    </tr>\n",
       "    <tr>\n",
       "      <th>-12.0</th>\n",
       "      <td>13.0</td>\n",
       "      <td>13.0</td>\n",
       "      <td>26.0</td>\n",
       "      <td>25.000000</td>\n",
       "      <td>25.000000</td>\n",
       "      <td>50.000000</td>\n",
       "    </tr>\n",
       "    <tr>\n",
       "      <th>-11.0</th>\n",
       "      <td>18.0</td>\n",
       "      <td>24.0</td>\n",
       "      <td>45.0</td>\n",
       "      <td>20.689655</td>\n",
       "      <td>27.586207</td>\n",
       "      <td>51.724138</td>\n",
       "    </tr>\n",
       "    <tr>\n",
       "      <th>-10.0</th>\n",
       "      <td>23.0</td>\n",
       "      <td>29.0</td>\n",
       "      <td>37.0</td>\n",
       "      <td>25.842697</td>\n",
       "      <td>32.584270</td>\n",
       "      <td>41.573034</td>\n",
       "    </tr>\n",
       "    <tr>\n",
       "      <th>-9.0</th>\n",
       "      <td>31.0</td>\n",
       "      <td>24.0</td>\n",
       "      <td>48.0</td>\n",
       "      <td>30.097087</td>\n",
       "      <td>23.300971</td>\n",
       "      <td>46.601942</td>\n",
       "    </tr>\n",
       "    <tr>\n",
       "      <th>-8.0</th>\n",
       "      <td>47.0</td>\n",
       "      <td>28.0</td>\n",
       "      <td>37.0</td>\n",
       "      <td>41.964286</td>\n",
       "      <td>25.000000</td>\n",
       "      <td>33.035714</td>\n",
       "    </tr>\n",
       "    <tr>\n",
       "      <th>-7.0</th>\n",
       "      <td>42.0</td>\n",
       "      <td>50.0</td>\n",
       "      <td>59.0</td>\n",
       "      <td>27.814570</td>\n",
       "      <td>33.112583</td>\n",
       "      <td>39.072848</td>\n",
       "    </tr>\n",
       "    <tr>\n",
       "      <th>-6.0</th>\n",
       "      <td>59.0</td>\n",
       "      <td>37.0</td>\n",
       "      <td>61.0</td>\n",
       "      <td>37.579618</td>\n",
       "      <td>23.566879</td>\n",
       "      <td>38.853503</td>\n",
       "    </tr>\n",
       "    <tr>\n",
       "      <th>-5.0</th>\n",
       "      <td>52.0</td>\n",
       "      <td>36.0</td>\n",
       "      <td>61.0</td>\n",
       "      <td>34.899329</td>\n",
       "      <td>24.161074</td>\n",
       "      <td>40.939597</td>\n",
       "    </tr>\n",
       "    <tr>\n",
       "      <th>-4.0</th>\n",
       "      <td>66.0</td>\n",
       "      <td>55.0</td>\n",
       "      <td>63.0</td>\n",
       "      <td>35.869565</td>\n",
       "      <td>29.891304</td>\n",
       "      <td>34.239130</td>\n",
       "    </tr>\n",
       "    <tr>\n",
       "      <th>-3.0</th>\n",
       "      <td>72.0</td>\n",
       "      <td>72.0</td>\n",
       "      <td>72.0</td>\n",
       "      <td>33.333333</td>\n",
       "      <td>33.333333</td>\n",
       "      <td>33.333333</td>\n",
       "    </tr>\n",
       "    <tr>\n",
       "      <th>-2.0</th>\n",
       "      <td>106.0</td>\n",
       "      <td>54.0</td>\n",
       "      <td>70.0</td>\n",
       "      <td>46.086957</td>\n",
       "      <td>23.478261</td>\n",
       "      <td>30.434783</td>\n",
       "    </tr>\n",
       "    <tr>\n",
       "      <th>-1.0</th>\n",
       "      <td>103.0</td>\n",
       "      <td>63.0</td>\n",
       "      <td>74.0</td>\n",
       "      <td>42.916667</td>\n",
       "      <td>26.250000</td>\n",
       "      <td>30.833333</td>\n",
       "    </tr>\n",
       "    <tr>\n",
       "      <th>0.0</th>\n",
       "      <td>112.0</td>\n",
       "      <td>61.0</td>\n",
       "      <td>68.0</td>\n",
       "      <td>46.473029</td>\n",
       "      <td>25.311203</td>\n",
       "      <td>28.215768</td>\n",
       "    </tr>\n",
       "    <tr>\n",
       "      <th>1.0</th>\n",
       "      <td>120.0</td>\n",
       "      <td>71.0</td>\n",
       "      <td>56.0</td>\n",
       "      <td>48.582996</td>\n",
       "      <td>28.744939</td>\n",
       "      <td>22.672065</td>\n",
       "    </tr>\n",
       "    <tr>\n",
       "      <th>2.0</th>\n",
       "      <td>130.0</td>\n",
       "      <td>54.0</td>\n",
       "      <td>40.0</td>\n",
       "      <td>58.035714</td>\n",
       "      <td>24.107143</td>\n",
       "      <td>17.857143</td>\n",
       "    </tr>\n",
       "    <tr>\n",
       "      <th>3.0</th>\n",
       "      <td>108.0</td>\n",
       "      <td>49.0</td>\n",
       "      <td>30.0</td>\n",
       "      <td>57.754011</td>\n",
       "      <td>26.203209</td>\n",
       "      <td>16.042781</td>\n",
       "    </tr>\n",
       "    <tr>\n",
       "      <th>4.0</th>\n",
       "      <td>72.0</td>\n",
       "      <td>51.0</td>\n",
       "      <td>25.0</td>\n",
       "      <td>48.648649</td>\n",
       "      <td>34.459459</td>\n",
       "      <td>16.891892</td>\n",
       "    </tr>\n",
       "    <tr>\n",
       "      <th>5.0</th>\n",
       "      <td>86.0</td>\n",
       "      <td>49.0</td>\n",
       "      <td>26.0</td>\n",
       "      <td>53.416149</td>\n",
       "      <td>30.434783</td>\n",
       "      <td>16.149068</td>\n",
       "    </tr>\n",
       "    <tr>\n",
       "      <th>6.0</th>\n",
       "      <td>104.0</td>\n",
       "      <td>40.0</td>\n",
       "      <td>27.0</td>\n",
       "      <td>60.818713</td>\n",
       "      <td>23.391813</td>\n",
       "      <td>15.789474</td>\n",
       "    </tr>\n",
       "    <tr>\n",
       "      <th>7.0</th>\n",
       "      <td>66.0</td>\n",
       "      <td>27.0</td>\n",
       "      <td>31.0</td>\n",
       "      <td>53.225806</td>\n",
       "      <td>21.774194</td>\n",
       "      <td>25.000000</td>\n",
       "    </tr>\n",
       "    <tr>\n",
       "      <th>8.0</th>\n",
       "      <td>73.0</td>\n",
       "      <td>24.0</td>\n",
       "      <td>17.0</td>\n",
       "      <td>64.035088</td>\n",
       "      <td>21.052632</td>\n",
       "      <td>14.912281</td>\n",
       "    </tr>\n",
       "    <tr>\n",
       "      <th>9.0</th>\n",
       "      <td>61.0</td>\n",
       "      <td>30.0</td>\n",
       "      <td>11.0</td>\n",
       "      <td>59.803922</td>\n",
       "      <td>29.411765</td>\n",
       "      <td>10.784314</td>\n",
       "    </tr>\n",
       "    <tr>\n",
       "      <th>10.0</th>\n",
       "      <td>50.0</td>\n",
       "      <td>13.0</td>\n",
       "      <td>9.0</td>\n",
       "      <td>69.444444</td>\n",
       "      <td>18.055556</td>\n",
       "      <td>12.500000</td>\n",
       "    </tr>\n",
       "    <tr>\n",
       "      <th>11.0</th>\n",
       "      <td>34.0</td>\n",
       "      <td>7.0</td>\n",
       "      <td>7.0</td>\n",
       "      <td>70.833333</td>\n",
       "      <td>14.583333</td>\n",
       "      <td>14.583333</td>\n",
       "    </tr>\n",
       "    <tr>\n",
       "      <th>12.0</th>\n",
       "      <td>34.0</td>\n",
       "      <td>13.0</td>\n",
       "      <td>4.0</td>\n",
       "      <td>66.666667</td>\n",
       "      <td>25.490196</td>\n",
       "      <td>7.843137</td>\n",
       "    </tr>\n",
       "    <tr>\n",
       "      <th>13.0</th>\n",
       "      <td>32.0</td>\n",
       "      <td>9.0</td>\n",
       "      <td>7.0</td>\n",
       "      <td>66.666667</td>\n",
       "      <td>18.750000</td>\n",
       "      <td>14.583333</td>\n",
       "    </tr>\n",
       "    <tr>\n",
       "      <th>14.0</th>\n",
       "      <td>21.0</td>\n",
       "      <td>5.0</td>\n",
       "      <td>5.0</td>\n",
       "      <td>67.741935</td>\n",
       "      <td>16.129032</td>\n",
       "      <td>16.129032</td>\n",
       "    </tr>\n",
       "    <tr>\n",
       "      <th>15.0</th>\n",
       "      <td>14.0</td>\n",
       "      <td>1.0</td>\n",
       "      <td>1.0</td>\n",
       "      <td>87.500000</td>\n",
       "      <td>6.250000</td>\n",
       "      <td>6.250000</td>\n",
       "    </tr>\n",
       "    <tr>\n",
       "      <th>16.0</th>\n",
       "      <td>12.0</td>\n",
       "      <td>1.0</td>\n",
       "      <td>0.0</td>\n",
       "      <td>92.307692</td>\n",
       "      <td>7.692308</td>\n",
       "      <td>0.000000</td>\n",
       "    </tr>\n",
       "    <tr>\n",
       "      <th>17.0</th>\n",
       "      <td>9.0</td>\n",
       "      <td>2.0</td>\n",
       "      <td>2.0</td>\n",
       "      <td>69.230769</td>\n",
       "      <td>15.384615</td>\n",
       "      <td>15.384615</td>\n",
       "    </tr>\n",
       "    <tr>\n",
       "      <th>18.0</th>\n",
       "      <td>5.0</td>\n",
       "      <td>3.0</td>\n",
       "      <td>0.0</td>\n",
       "      <td>62.500000</td>\n",
       "      <td>37.500000</td>\n",
       "      <td>0.000000</td>\n",
       "    </tr>\n",
       "    <tr>\n",
       "      <th>19.0</th>\n",
       "      <td>3.0</td>\n",
       "      <td>0.0</td>\n",
       "      <td>0.0</td>\n",
       "      <td>100.000000</td>\n",
       "      <td>0.000000</td>\n",
       "      <td>0.000000</td>\n",
       "    </tr>\n",
       "    <tr>\n",
       "      <th>20.0</th>\n",
       "      <td>4.0</td>\n",
       "      <td>0.0</td>\n",
       "      <td>0.0</td>\n",
       "      <td>100.000000</td>\n",
       "      <td>0.000000</td>\n",
       "      <td>0.000000</td>\n",
       "    </tr>\n",
       "    <tr>\n",
       "      <th>21.0</th>\n",
       "      <td>2.0</td>\n",
       "      <td>0.0</td>\n",
       "      <td>0.0</td>\n",
       "      <td>100.000000</td>\n",
       "      <td>0.000000</td>\n",
       "      <td>0.000000</td>\n",
       "    </tr>\n",
       "    <tr>\n",
       "      <th>22.0</th>\n",
       "      <td>1.0</td>\n",
       "      <td>0.0</td>\n",
       "      <td>0.0</td>\n",
       "      <td>100.000000</td>\n",
       "      <td>0.000000</td>\n",
       "      <td>0.000000</td>\n",
       "    </tr>\n",
       "    <tr>\n",
       "      <th>23.0</th>\n",
       "      <td>1.0</td>\n",
       "      <td>0.0</td>\n",
       "      <td>0.0</td>\n",
       "      <td>100.000000</td>\n",
       "      <td>0.000000</td>\n",
       "      <td>0.000000</td>\n",
       "    </tr>\n",
       "    <tr>\n",
       "      <th>24.0</th>\n",
       "      <td>1.0</td>\n",
       "      <td>0.0</td>\n",
       "      <td>0.0</td>\n",
       "      <td>100.000000</td>\n",
       "      <td>0.000000</td>\n",
       "      <td>0.000000</td>\n",
       "    </tr>\n",
       "  </tbody>\n",
       "</table>\n",
       "</div>"
      ],
      "text/plain": [
       "                  H     D     A        pctH       pctD        pctA\n",
       "match_rating                                                      \n",
       "-25.0           0.0   0.0   1.0    0.000000   0.000000  100.000000\n",
       "-23.0           0.0   0.0   1.0    0.000000   0.000000  100.000000\n",
       "-22.0           0.0   0.0   2.0    0.000000   0.000000  100.000000\n",
       "-21.0           0.0   0.0   2.0    0.000000   0.000000  100.000000\n",
       "-20.0           2.0   2.0   4.0   25.000000  25.000000   50.000000\n",
       "-19.0           3.0   1.0   4.0   37.500000  12.500000   50.000000\n",
       "-18.0           0.0   3.0   4.0    0.000000  42.857143   57.142857\n",
       "-17.0           1.0   4.0  10.0    6.666667  26.666667   66.666667\n",
       "-16.0           3.0   3.0  10.0   18.750000  18.750000   62.500000\n",
       "-15.0           3.0   8.0  22.0    9.090909  24.242424   66.666667\n",
       "-14.0           9.0   7.0  12.0   32.142857  25.000000   42.857143\n",
       "-13.0           9.0   9.0  16.0   26.470588  26.470588   47.058824\n",
       "-12.0          13.0  13.0  26.0   25.000000  25.000000   50.000000\n",
       "-11.0          18.0  24.0  45.0   20.689655  27.586207   51.724138\n",
       "-10.0          23.0  29.0  37.0   25.842697  32.584270   41.573034\n",
       "-9.0           31.0  24.0  48.0   30.097087  23.300971   46.601942\n",
       "-8.0           47.0  28.0  37.0   41.964286  25.000000   33.035714\n",
       "-7.0           42.0  50.0  59.0   27.814570  33.112583   39.072848\n",
       "-6.0           59.0  37.0  61.0   37.579618  23.566879   38.853503\n",
       "-5.0           52.0  36.0  61.0   34.899329  24.161074   40.939597\n",
       "-4.0           66.0  55.0  63.0   35.869565  29.891304   34.239130\n",
       "-3.0           72.0  72.0  72.0   33.333333  33.333333   33.333333\n",
       "-2.0          106.0  54.0  70.0   46.086957  23.478261   30.434783\n",
       "-1.0          103.0  63.0  74.0   42.916667  26.250000   30.833333\n",
       " 0.0          112.0  61.0  68.0   46.473029  25.311203   28.215768\n",
       " 1.0          120.0  71.0  56.0   48.582996  28.744939   22.672065\n",
       " 2.0          130.0  54.0  40.0   58.035714  24.107143   17.857143\n",
       " 3.0          108.0  49.0  30.0   57.754011  26.203209   16.042781\n",
       " 4.0           72.0  51.0  25.0   48.648649  34.459459   16.891892\n",
       " 5.0           86.0  49.0  26.0   53.416149  30.434783   16.149068\n",
       " 6.0          104.0  40.0  27.0   60.818713  23.391813   15.789474\n",
       " 7.0           66.0  27.0  31.0   53.225806  21.774194   25.000000\n",
       " 8.0           73.0  24.0  17.0   64.035088  21.052632   14.912281\n",
       " 9.0           61.0  30.0  11.0   59.803922  29.411765   10.784314\n",
       " 10.0          50.0  13.0   9.0   69.444444  18.055556   12.500000\n",
       " 11.0          34.0   7.0   7.0   70.833333  14.583333   14.583333\n",
       " 12.0          34.0  13.0   4.0   66.666667  25.490196    7.843137\n",
       " 13.0          32.0   9.0   7.0   66.666667  18.750000   14.583333\n",
       " 14.0          21.0   5.0   5.0   67.741935  16.129032   16.129032\n",
       " 15.0          14.0   1.0   1.0   87.500000   6.250000    6.250000\n",
       " 16.0          12.0   1.0   0.0   92.307692   7.692308    0.000000\n",
       " 17.0           9.0   2.0   2.0   69.230769  15.384615   15.384615\n",
       " 18.0           5.0   3.0   0.0   62.500000  37.500000    0.000000\n",
       " 19.0           3.0   0.0   0.0  100.000000   0.000000    0.000000\n",
       " 20.0           4.0   0.0   0.0  100.000000   0.000000    0.000000\n",
       " 21.0           2.0   0.0   0.0  100.000000   0.000000    0.000000\n",
       " 22.0           1.0   0.0   0.0  100.000000   0.000000    0.000000\n",
       " 23.0           1.0   0.0   0.0  100.000000   0.000000    0.000000\n",
       " 24.0           1.0   0.0   0.0  100.000000   0.000000    0.000000"
      ]
     },
     "execution_count": 184,
     "metadata": {},
     "output_type": "execute_result"
    }
   ],
   "source": [
    "df4"
   ]
  },
  {
   "cell_type": "code",
   "execution_count": null,
   "metadata": {},
   "outputs": [],
   "source": []
  }
 ],
 "metadata": {
  "kernelspec": {
   "display_name": "Python 3",
   "language": "python",
   "name": "python3"
  },
  "language_info": {
   "codemirror_mode": {
    "name": "ipython",
    "version": 3
   },
   "file_extension": ".py",
   "mimetype": "text/x-python",
   "name": "python",
   "nbconvert_exporter": "python",
   "pygments_lexer": "ipython3",
   "version": "3.7.6"
  }
 },
 "nbformat": 4,
 "nbformat_minor": 2
}
